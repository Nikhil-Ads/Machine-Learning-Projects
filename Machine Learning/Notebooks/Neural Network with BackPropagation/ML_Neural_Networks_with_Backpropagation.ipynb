{
  "nbformat": 4,
  "nbformat_minor": 5,
  "metadata": {
    "kernelspec": {
      "display_name": "Python 3",
      "language": "python",
      "name": "python3"
    },
    "language_info": {
      "codemirror_mode": {
        "name": "ipython",
        "version": 3
      },
      "file_extension": ".py",
      "mimetype": "text/x-python",
      "name": "python",
      "nbconvert_exporter": "python",
      "pygments_lexer": "ipython3",
      "version": "3.8.8"
    },
    "colab": {
      "name": "ML - Neural Networks with Backpropagation.ipynb",
      "provenance": [],
      "collapsed_sections": [],
      "toc_visible": true
    }
  },
  "cells": [
    {
      "cell_type": "markdown",
      "metadata": {
        "id": "EdGqgmOGPLyG"
      },
      "source": [
        "## Neural Networks with Back Propogation"
      ],
      "id": "EdGqgmOGPLyG"
    },
    {
      "cell_type": "markdown",
      "metadata": {
        "id": "KPY4gfj9p9Ic"
      },
      "source": [
        "## Importing Packages"
      ],
      "id": "KPY4gfj9p9Ic"
    },
    {
      "cell_type": "code",
      "metadata": {
        "id": "01f74c8b"
      },
      "source": [
        "#Import packages\n",
        "import numpy as np\n",
        "import re\n",
        "import pandas as pd\n",
        "import seaborn as sns\n",
        "import matplotlib.pyplot as plt\n",
        "import copy\n",
        "from sklearn.model_selection import train_test_split\n",
        "from random import seed\n",
        "from random import random\n",
        "from random import randrange"
      ],
      "id": "01f74c8b",
      "execution_count": null,
      "outputs": []
    },
    {
      "cell_type": "markdown",
      "metadata": {
        "id": "nkRfcQXhqEpn"
      },
      "source": [
        "## Reading CSV Data File"
      ],
      "id": "nkRfcQXhqEpn"
    },
    {
      "cell_type": "code",
      "metadata": {
        "id": "G295d5v6P_mr"
      },
      "source": [
        "#Read data and add feature names\n",
        "dataset = pd.read_csv('data_banknote_authentication.txt',names=['variance','skewness','curtosis','entropy','class'])"
      ],
      "id": "G295d5v6P_mr",
      "execution_count": null,
      "outputs": []
    },
    {
      "cell_type": "markdown",
      "metadata": {
        "id": "yM5mkhHyqLLA"
      },
      "source": [
        "### Printing Dataset Information"
      ],
      "id": "yM5mkhHyqLLA"
    },
    {
      "cell_type": "code",
      "metadata": {
        "id": "f5b5b186",
        "colab": {
          "base_uri": "https://localhost:8080/"
        },
        "outputId": "e29bd4f4-0210-447d-f6a0-88ba905df451"
      },
      "source": [
        "#Check info\n",
        "dataset.info()"
      ],
      "id": "f5b5b186",
      "execution_count": null,
      "outputs": [
        {
          "output_type": "stream",
          "name": "stdout",
          "text": [
            "<class 'pandas.core.frame.DataFrame'>\n",
            "RangeIndex: 1372 entries, 0 to 1371\n",
            "Data columns (total 5 columns):\n",
            " #   Column    Non-Null Count  Dtype  \n",
            "---  ------    --------------  -----  \n",
            " 0   variance  1372 non-null   float64\n",
            " 1   skewness  1372 non-null   float64\n",
            " 2   curtosis  1372 non-null   float64\n",
            " 3   entropy   1372 non-null   float64\n",
            " 4   class     1372 non-null   int64  \n",
            "dtypes: float64(4), int64(1)\n",
            "memory usage: 53.7 KB\n"
          ]
        }
      ]
    },
    {
      "cell_type": "code",
      "metadata": {
        "id": "e3c55a41",
        "colab": {
          "base_uri": "https://localhost:8080/",
          "height": 204
        },
        "outputId": "bd2bc9be-c3c0-4f26-f8d8-428db2b1a8d1"
      },
      "source": [
        "#Check header\n",
        "dataset.head()"
      ],
      "id": "e3c55a41",
      "execution_count": null,
      "outputs": [
        {
          "output_type": "execute_result",
          "data": {
            "text/html": [
              "<div>\n",
              "<style scoped>\n",
              "    .dataframe tbody tr th:only-of-type {\n",
              "        vertical-align: middle;\n",
              "    }\n",
              "\n",
              "    .dataframe tbody tr th {\n",
              "        vertical-align: top;\n",
              "    }\n",
              "\n",
              "    .dataframe thead th {\n",
              "        text-align: right;\n",
              "    }\n",
              "</style>\n",
              "<table border=\"1\" class=\"dataframe\">\n",
              "  <thead>\n",
              "    <tr style=\"text-align: right;\">\n",
              "      <th></th>\n",
              "      <th>variance</th>\n",
              "      <th>skewness</th>\n",
              "      <th>curtosis</th>\n",
              "      <th>entropy</th>\n",
              "      <th>class</th>\n",
              "    </tr>\n",
              "  </thead>\n",
              "  <tbody>\n",
              "    <tr>\n",
              "      <th>0</th>\n",
              "      <td>3.62160</td>\n",
              "      <td>8.6661</td>\n",
              "      <td>-2.8073</td>\n",
              "      <td>-0.44699</td>\n",
              "      <td>0</td>\n",
              "    </tr>\n",
              "    <tr>\n",
              "      <th>1</th>\n",
              "      <td>4.54590</td>\n",
              "      <td>8.1674</td>\n",
              "      <td>-2.4586</td>\n",
              "      <td>-1.46210</td>\n",
              "      <td>0</td>\n",
              "    </tr>\n",
              "    <tr>\n",
              "      <th>2</th>\n",
              "      <td>3.86600</td>\n",
              "      <td>-2.6383</td>\n",
              "      <td>1.9242</td>\n",
              "      <td>0.10645</td>\n",
              "      <td>0</td>\n",
              "    </tr>\n",
              "    <tr>\n",
              "      <th>3</th>\n",
              "      <td>3.45660</td>\n",
              "      <td>9.5228</td>\n",
              "      <td>-4.0112</td>\n",
              "      <td>-3.59440</td>\n",
              "      <td>0</td>\n",
              "    </tr>\n",
              "    <tr>\n",
              "      <th>4</th>\n",
              "      <td>0.32924</td>\n",
              "      <td>-4.4552</td>\n",
              "      <td>4.5718</td>\n",
              "      <td>-0.98880</td>\n",
              "      <td>0</td>\n",
              "    </tr>\n",
              "  </tbody>\n",
              "</table>\n",
              "</div>"
            ],
            "text/plain": [
              "   variance  skewness  curtosis  entropy  class\n",
              "0   3.62160    8.6661   -2.8073 -0.44699      0\n",
              "1   4.54590    8.1674   -2.4586 -1.46210      0\n",
              "2   3.86600   -2.6383    1.9242  0.10645      0\n",
              "3   3.45660    9.5228   -4.0112 -3.59440      0\n",
              "4   0.32924   -4.4552    4.5718 -0.98880      0"
            ]
          },
          "metadata": {},
          "execution_count": 29
        }
      ]
    },
    {
      "cell_type": "markdown",
      "metadata": {
        "id": "BLYYqHASqU5T"
      },
      "source": [
        "## Data Preprocessing\n",
        "\n",
        "Involes renaming columns and normalizing the data."
      ],
      "id": "BLYYqHASqU5T"
    },
    {
      "cell_type": "code",
      "metadata": {
        "id": "8448d18a"
      },
      "source": [
        "# Data-preprocessing\n",
        "#Define training features in X\n",
        "X = dataset[['variance','skewness','curtosis','entropy']]\n",
        "#Define output target feature in Y\n",
        "Y = dataset[['class']]"
      ],
      "id": "8448d18a",
      "execution_count": null,
      "outputs": []
    },
    {
      "cell_type": "code",
      "metadata": {
        "id": "T7rpdiNKd8FW"
      },
      "source": [
        "#Standardize numerical features of X\n",
        "X = (X-np.mean(X))/np.std(X)"
      ],
      "id": "T7rpdiNKd8FW",
      "execution_count": null,
      "outputs": []
    },
    {
      "cell_type": "code",
      "metadata": {
        "id": "b3bde96c"
      },
      "source": [
        "#Add bias feature in X\n",
        "#X['bias'] = np.ones(len(Y))"
      ],
      "id": "b3bde96c",
      "execution_count": null,
      "outputs": []
    },
    {
      "cell_type": "markdown",
      "metadata": {
        "id": "S48QEQonqmkq"
      },
      "source": [
        "## Generating Datasets for Training, Testing and Validation"
      ],
      "id": "S48QEQonqmkq"
    },
    {
      "cell_type": "code",
      "metadata": {
        "id": "JLBQUVd8exYZ"
      },
      "source": [
        "#Create Train (including validate) and Test sets\n",
        "X_train_full, X_test, Y_train_full, Y_test = train_test_split(X, Y, train_size=0.8, random_state=101)\n",
        "#Create Train and Validate sets\n",
        "X_train, X_valid, Y_train, Y_valid = train_test_split(X_train_full, Y_train_full, train_size=0.2, random_state=101)"
      ],
      "id": "JLBQUVd8exYZ",
      "execution_count": null,
      "outputs": []
    },
    {
      "cell_type": "code",
      "metadata": {
        "id": "TB9iyCF3exb0"
      },
      "source": [
        "total_features = len(X_train.columns)"
      ],
      "id": "TB9iyCF3exb0",
      "execution_count": null,
      "outputs": []
    },
    {
      "cell_type": "code",
      "metadata": {
        "id": "243106f7"
      },
      "source": [
        "# Calculate weighted sum of input features for a neuron\n",
        "def getWeightedSum(weights, inputs):\n",
        "\tweightedSum = weights[-1]\n",
        "\tfor i in range(len(weights)-1):\n",
        "\t\tweightedSum += weights[i] * inputs[i]\n",
        "\treturn weightedSum"
      ],
      "id": "243106f7",
      "execution_count": null,
      "outputs": []
    },
    {
      "cell_type": "code",
      "metadata": {
        "id": "f96ea0b5"
      },
      "source": [
        "# Calculate accuracy percentage\n",
        "def accuracy_metric(actual, predicted):\n",
        "\tcorrect = 0\n",
        "\tfor i in range(len(actual)):\n",
        "\t\tif actual[i] == predicted[i]:\n",
        "\t\t\tcorrect += 1\n",
        "\treturn correct / float(len(actual)) * 100.0"
      ],
      "id": "f96ea0b5",
      "execution_count": null,
      "outputs": []
    },
    {
      "cell_type": "code",
      "metadata": {
        "id": "8772bcb1"
      },
      "source": [
        "# Signmod activation\n",
        "def getSigmoid(weightedSum):\n",
        "\treturn 1.0 / (1.0 + np.exp(-weightedSum))"
      ],
      "id": "8772bcb1",
      "execution_count": null,
      "outputs": []
    },
    {
      "cell_type": "code",
      "metadata": {
        "id": "01ee73b6"
      },
      "source": [
        "# Sigmoid derivative\n",
        "def getSigmoidDerivative(sigmoid_output):\n",
        "\treturn sigmoid_output * (1.0 - sigmoid_output)"
      ],
      "id": "01ee73b6",
      "execution_count": null,
      "outputs": []
    },
    {
      "cell_type": "code",
      "metadata": {
        "id": "AYdfWBxRoUWq"
      },
      "source": [
        "# Hyperbolic tangent Activation\n",
        "def getHyperTangent(weightedSum):\n",
        "  return (np.exp(weightedSum) - np.exp(-weightedSum))/(np.exp(weightedSum) + np.exp(-weightedSum))"
      ],
      "id": "AYdfWBxRoUWq",
      "execution_count": null,
      "outputs": []
    },
    {
      "cell_type": "code",
      "metadata": {
        "id": "EcalGI4ioUg4"
      },
      "source": [
        "# Hyperbolic tangent Derivative\n",
        "def getHypTanDerivative(tanh_output):\n",
        "  return 1.0 - tanh_output * tanh_output"
      ],
      "id": "EcalGI4ioUg4",
      "execution_count": null,
      "outputs": []
    },
    {
      "cell_type": "code",
      "metadata": {
        "id": "xyOE77YC9wJ4"
      },
      "source": [
        "#Defining Threshold Function for changing threshold, based on activation function\n",
        "def define_threshold(activation_func):\n",
        "  act_func = str(activation_func)\n",
        "  l, h = None, None\n",
        "  if 'getSigmoid' in act_func:\n",
        "    l, h= 0.25, 0.75\n",
        "  elif 'getHyperTangent' in act_func:\n",
        "    l, h = -0.5, 0.5\n",
        "  else:\n",
        "    l, h = None, None\n",
        "  return l, h"
      ],
      "id": "xyOE77YC9wJ4",
      "execution_count": null,
      "outputs": []
    },
    {
      "cell_type": "code",
      "metadata": {
        "id": "rQZeGPTRJb2t"
      },
      "source": [
        "#Defining output labels, based on the activation function\n",
        "def define_output(act_function):\n",
        "  act_func = str(act_function)\n",
        "  l, h = None, None\n",
        "  if 'getSigmoid' in act_func:\n",
        "    l, h= 0, 1\n",
        "  elif 'getHyperTangent' in act_func:\n",
        "    l, h = -1, 1\n",
        "  else:\n",
        "    l, h = None, None\n",
        "  return l, h"
      ],
      "id": "rQZeGPTRJb2t",
      "execution_count": null,
      "outputs": []
    },
    {
      "cell_type": "code",
      "metadata": {
        "id": "d9d582e4"
      },
      "source": [
        "# Forward propagate input to a network output\n",
        "def forward_propagate(network, feature_inputs,activation_function=getSigmoid):\n",
        "\tinputs = feature_inputs\n",
        "\tl, h = define_threshold(activation_function)\n",
        "\tl_out, h_out = define_output(activation_function)\n",
        "\tfor layer in network:\n",
        "\t\tnew_inputs = []\n",
        "\t\tfor neuron in layer:\n",
        "\t\t\tweightedSum = getWeightedSum(neuron['weights'], inputs)\n",
        "\t\t\tneuron['output'] = activation_function(weightedSum)\n",
        "\t\t\tif neuron['output'] >= h:\n",
        "\t\t\t\tneuron['output'] = h_out\n",
        "\t\t\telif neuron['output'] <= l:\n",
        "\t\t\t\tneuron['output'] = l_out\n",
        "\t\t\tnew_inputs.append(neuron['output'])\n",
        "\t\tinputs = new_inputs\n",
        "\treturn inputs"
      ],
      "id": "d9d582e4",
      "execution_count": null,
      "outputs": []
    },
    {
      "cell_type": "code",
      "metadata": {
        "id": "c3af94b8"
      },
      "source": [
        "# Initialize Weights\n",
        "def getInitialWeights(feature_count):\n",
        "    limit = np.sqrt(3/feature_count)\n",
        "    initialWeights = np.random.uniform(-limit, limit,feature_count)\n",
        "    return initialWeights"
      ],
      "id": "c3af94b8",
      "execution_count": null,
      "outputs": []
    },
    {
      "cell_type": "code",
      "metadata": {
        "id": "c5f5773b"
      },
      "source": [
        "# Backpropagate error and store in neurons\n",
        "def backward_propagate_error(network, expected, activation_derivative_function=getSigmoidDerivative):\n",
        "\tfor i in reversed(range(len(network))):\n",
        "\t\tlayer = network[i]\n",
        "\t\terrors = list()\n",
        "\t\tif i != len(network)-1:\n",
        "\t\t\tfor j in range(len(layer)):\n",
        "\t\t\t\terror = 0.0\n",
        "\t\t\t\tfor neuron in network[i + 1]:\n",
        "\t\t\t\t\terror += (neuron['weights'][j] * neuron['delta'])\n",
        "\t\t\t\terrors.append(error)\n",
        "\t\telse:\n",
        "\t\t\tfor j in range(len(layer)):\n",
        "\t\t\t\tneuron = layer[j]\n",
        "\t\t\t\terrors.append(neuron['output'] - expected)\n",
        "\t\tfor j in range(len(layer)):\n",
        "\t\t\tneuron = layer[j]\n",
        "\t\t\tneuron['delta'] = errors[j] * activation_derivative_function(neuron['output'])"
      ],
      "id": "c5f5773b",
      "execution_count": null,
      "outputs": []
    },
    {
      "cell_type": "code",
      "metadata": {
        "id": "5db420fc"
      },
      "source": [
        "# Update network weights with error\n",
        "def update_weights(network, row, l_rate):\n",
        "\tfor i in range(len(network)):\n",
        "\t\tinputs = row[:-1]\n",
        "\t\tif i != 0:\n",
        "\t\t\tinputs = [neuron['output'] for neuron in network[i - 1]]\n",
        "\t\tfor neuron in network[i]:\n",
        "\t\t\tfor j in range(len(inputs)):\n",
        "\t\t\t\tneuron['weights'][j] -= l_rate * neuron['delta'] * inputs[j]\n",
        "\t\t\tneuron['weights'][-1] -= l_rate * neuron['delta']"
      ],
      "id": "5db420fc",
      "execution_count": null,
      "outputs": []
    },
    {
      "cell_type": "code",
      "metadata": {
        "id": "d16fe500"
      },
      "source": [
        "# Train a network for a fixed number of epochs\n",
        "def train_network(network, x, y, eta=0.1, epochs=50, activation_function=getSigmoid, activation_derivative_function=getSigmoidDerivative):\n",
        "\tfor epoch in range(epochs):\n",
        "\t\tfor data_point, expected in zip(x, y):\n",
        "\t\t\toutputs = forward_propagate(network, data_point, activation_function)\n",
        "\t\t\tbackward_propagate_error(network, expected, activation_derivative_function)\n",
        "\t\t\tupdate_weights(network, data_point, eta)"
      ],
      "id": "d16fe500",
      "execution_count": null,
      "outputs": []
    },
    {
      "cell_type": "code",
      "metadata": {
        "id": "083c609f"
      },
      "source": [
        "# Initialize a network\n",
        "def initialize_network(n_inputs=total_features, n_hidden=total_features, n_outputs=1, init_weights=None):\n",
        "\tnetwork = list()\n",
        "\tif init_weights:\n",
        "\t\thidden_layer = [{'weights': init_weights[0][i]} for i in range(n_hidden)]\t\n",
        "\t\toutput_layer = [{'weights': init_weights[1][i]} for i in range(n_outputs)]\t\n",
        "\telse:\n",
        "\t\thidden_layer = [{'weights':getInitialWeights(n_inputs+1)} for i in range(n_hidden)]\n",
        "\t\toutput_layer = [{'weights':getInitialWeights(n_hidden+1)} for i in range(n_outputs)]\n",
        "\tnetwork.append(hidden_layer)\n",
        "\tnetwork.append(output_layer)\n",
        "\treturn network"
      ],
      "id": "083c609f",
      "execution_count": null,
      "outputs": []
    },
    {
      "cell_type": "code",
      "metadata": {
        "id": "4ac42661"
      },
      "source": [
        "# Make a prediction with a network\n",
        "def predict(network, row, activation_function):\n",
        "\toutputs = forward_propagate(network, row,activation_function)\n",
        "\treturn outputs[-1]"
      ],
      "id": "4ac42661",
      "execution_count": null,
      "outputs": []
    },
    {
      "cell_type": "code",
      "metadata": {
        "id": "f170c660"
      },
      "source": [
        "# Backpropagation Algorithm With Stochastic Gradient Descent\n",
        "def back_propagation(x_train,y_train,x_test,y_test, eta=0.1, epochs=50, \n",
        "                     n_hidden = total_features,\n",
        "\t\t\t\t\t\t\t\t\t\t activation_function=getSigmoid,activation_derivative_function=getSigmoidDerivative, \n",
        "\t\t\t\t\t\t\t\t\t\t init_weights=None):\n",
        "\tn_inputs = len(x_train[0])\n",
        "\tn_outputs = len(y_train[0])\n",
        "\tnetwork = initialize_network(n_inputs, n_hidden, n_outputs, init_weights)\n",
        "\ttrain_network(network,x_train,y_train,eta,epochs,activation_function,activation_derivative_function)\n",
        "\tpredictions = list()\n",
        "\tfor row in x_test:\n",
        "\t\tprediction = predict(network, row,activation_function)\n",
        "\t\tpredictions.append(prediction)\t\n",
        "\treturn(accuracy_metric(y_test,predictions))"
      ],
      "id": "f170c660",
      "execution_count": null,
      "outputs": []
    },
    {
      "cell_type": "markdown",
      "metadata": {
        "id": "dPX13PgTB1zp"
      },
      "source": [
        "#### Defining X, Y Matrices"
      ],
      "id": "dPX13PgTB1zp"
    },
    {
      "cell_type": "code",
      "metadata": {
        "id": "ULokEFikB0_5"
      },
      "source": [
        "#Initializing matrices of the training, testing and validation sets\n",
        "X_train_mat = X_train.to_numpy()\n",
        "Y_train_mat = Y_train.to_numpy()\n",
        "\n",
        "X_test_mat = X_test.to_numpy()\n",
        "Y_test_mat = Y_test.to_numpy()\n",
        "\n",
        "X_valid_mat = X_valid.to_numpy()\n",
        "Y_valid_mat = Y_valid.to_numpy()\n",
        "\n",
        "#Transformation in data for Tanh Function\n",
        "Y_train_tanh = Y_train.copy()\n",
        "Y_train_tanh['class'] = Y_train_tanh['class'].apply(lambda y: -1 if y == 0 else 1)\n",
        "Y_valid_tanh = Y_valid.copy()\n",
        "Y_valid_tanh['class'] = Y_valid_tanh['class'].apply(lambda y: -1 if y == 0 else 1)\n",
        "Y_test_tanh = Y_test.copy()\n",
        "Y_test_tanh['class'] = Y_test_tanh['class'].apply(lambda y: -1 if y == 0 else 1)\n",
        "Y_train_mat_tanh = Y_train_tanh.to_numpy()\n",
        "Y_valid_mat_tanh = Y_valid_tanh.to_numpy()\n",
        "Y_test_mat_tanh = Y_test_tanh.to_numpy()"
      ],
      "id": "ULokEFikB0_5",
      "execution_count": null,
      "outputs": []
    },
    {
      "cell_type": "markdown",
      "metadata": {
        "id": "IRd-6B9_aU7r"
      },
      "source": [
        "#### Initializing new weights"
      ],
      "id": "IRd-6B9_aU7r"
    },
    {
      "cell_type": "code",
      "metadata": {
        "id": "LR_JoYpYaToK"
      },
      "source": [
        "# Function to get initialiized weights for comparison\n",
        "def getInitializedWeights(n_inputs=total_features, n_hidden=total_features, n_outputs=1):\n",
        "  weights = []\n",
        "  # Initializing Weights for hidden layer\n",
        "  weights.append([getInitialWeights(n_inputs+1) for i in range(n_hidden)])\n",
        "  weights.append([getInitialWeights(n_hidden+1) for i in range(n_outputs)])\n",
        "  return weights"
      ],
      "id": "LR_JoYpYaToK",
      "execution_count": null,
      "outputs": []
    },
    {
      "cell_type": "markdown",
      "metadata": {
        "id": "wXcWSKsY_8v6"
      },
      "source": [
        "### Testing for best Activation Function\n",
        "\n",
        "Testing for Activation Functions:\n",
        "\n",
        "1.   Sigmoid Function\n",
        "2.   Hyperbolic Tangent Function\n",
        "\n"
      ],
      "id": "wXcWSKsY_8v6"
    },
    {
      "cell_type": "code",
      "metadata": {
        "colab": {
          "base_uri": "https://localhost:8080/",
          "height": 1000
        },
        "id": "sAeS1NNWAOba",
        "outputId": "0b8d39c7-3e58-430c-acf1-b86c9b0c20cf"
      },
      "source": [
        "# Setup\n",
        "epochs = 500\n",
        "n_hidden = 4\n",
        "\n",
        "func = [(getSigmoid, getSigmoidDerivative, Y_train_mat, Y_valid_mat), (getHyperTangent, getHypTanDerivative, Y_train_mat_tanh, Y_valid_mat_tanh)]\n",
        "#Run on Validation set with different activation functions to get the best function\n",
        "best_scores = { 'Eta': [], 'Sigmoid': [], 'Tanh': [], 'best_func': []}\n",
        "eta_s = np.arange(0.01, 0.11, 0.01)\n",
        "for eta in eta_s:\n",
        "  print(f\"Result on Eta: {eta}\")\n",
        "  scores = [] \n",
        "  for activation, activation_derivative, y_t, y_v in func:\n",
        "    score = back_propagation(X_train_mat,y_t,X_valid_mat,y_v, eta, epochs, n_hidden,activation, activation_derivative)\n",
        "    scores.append(score)\n",
        "    print(f'\\tAccuracy of activation function {activation} of with {n_hidden} hidden neurons is {score}%')\n",
        "\n",
        "  # Evaluating the best activation function \n",
        "  max_score = max(scores)\n",
        "  best_func = func[scores.index(max_score)]\n",
        "  # print(f'\\nThe activation function {best_func[0]} has the best score: {max_score}%')\n",
        "  best_scores['Eta'].append(eta)\n",
        "  best_scores['Sigmoid'].append(scores[0])\n",
        "  best_scores['Tanh'].append(scores[1])\n",
        "  best_scores['best_func'].append(best_func)\n",
        "\n",
        "sig_scores = []\n",
        "tanh_scores= []\n",
        "for tanh_score, sig_score in zip(best_scores['Tanh'], best_scores['Sigmoid']):\n",
        "  sig_scores.append(sig_score)\n",
        "  tanh_scores.append(tanh_score)\n",
        "\n",
        "plt.title(\"'Eta' v/s Score of Activation functions\")\n",
        "plt.plot(eta_s, sig_scores,  label =\"Sigmoid Function\")\n",
        "plt.plot(eta_s, tanh_scores,  label =\"Tanh Function\")\n",
        "plt.xlabel(\"Learning Rate (eta) ->\")\n",
        "plt.ylabel(\"Accuracy of the Neural Network ->\")\n",
        "plt.legend(loc=\"lower right\")\n",
        "plt.show()\n",
        "\n"
      ],
      "id": "sAeS1NNWAOba",
      "execution_count": null,
      "outputs": [
        {
          "output_type": "stream",
          "name": "stdout",
          "text": [
            "Result on Eta: 0.01\n",
            "\tAccuracy of activation function <function getSigmoid at 0x7fa90332f0e0> of with 4 hidden neurons is 87.58542141230068%\n",
            "\tAccuracy of activation function <function getHyperTangent at 0x7fa9033a9320> of with 4 hidden neurons is 97.83599088838268%\n",
            "Result on Eta: 0.02\n",
            "\tAccuracy of activation function <function getSigmoid at 0x7fa90332f0e0> of with 4 hidden neurons is 92.48291571753985%\n",
            "\tAccuracy of activation function <function getHyperTangent at 0x7fa9033a9320> of with 4 hidden neurons is 93.50797266514806%\n",
            "Result on Eta: 0.03\n",
            "\tAccuracy of activation function <function getSigmoid at 0x7fa90332f0e0> of with 4 hidden neurons is 93.84965831435079%\n",
            "\tAccuracy of activation function <function getHyperTangent at 0x7fa9033a9320> of with 4 hidden neurons is 97.38041002277905%\n",
            "Result on Eta: 0.04\n",
            "\tAccuracy of activation function <function getSigmoid at 0x7fa90332f0e0> of with 4 hidden neurons is 93.96355353075171%\n",
            "\tAccuracy of activation function <function getHyperTangent at 0x7fa9033a9320> of with 4 hidden neurons is 97.83599088838268%\n",
            "Result on Eta: 0.05\n",
            "\tAccuracy of activation function <function getSigmoid at 0x7fa90332f0e0> of with 4 hidden neurons is 95.21640091116174%\n",
            "\tAccuracy of activation function <function getHyperTangent at 0x7fa9033a9320> of with 4 hidden neurons is 98.29157175398633%\n",
            "Result on Eta: 0.060000000000000005\n",
            "\tAccuracy of activation function <function getSigmoid at 0x7fa90332f0e0> of with 4 hidden neurons is 96.35535307517085%\n",
            "\tAccuracy of activation function <function getHyperTangent at 0x7fa9033a9320> of with 4 hidden neurons is 97.83599088838268%\n",
            "Result on Eta: 0.06999999999999999\n",
            "\tAccuracy of activation function <function getSigmoid at 0x7fa90332f0e0> of with 4 hidden neurons is 96.81093394077449%\n",
            "\tAccuracy of activation function <function getHyperTangent at 0x7fa9033a9320> of with 4 hidden neurons is 98.0637813211845%\n",
            "Result on Eta: 0.08\n",
            "\tAccuracy of activation function <function getSigmoid at 0x7fa90332f0e0> of with 4 hidden neurons is 96.81093394077449%\n",
            "\tAccuracy of activation function <function getHyperTangent at 0x7fa9033a9320> of with 4 hidden neurons is 99.08883826879271%\n",
            "Result on Eta: 0.09\n",
            "\tAccuracy of activation function <function getSigmoid at 0x7fa90332f0e0> of with 4 hidden neurons is 96.81093394077449%\n",
            "\tAccuracy of activation function <function getHyperTangent at 0x7fa9033a9320> of with 4 hidden neurons is 99.43052391799544%\n",
            "Result on Eta: 0.09999999999999999\n",
            "\tAccuracy of activation function <function getSigmoid at 0x7fa90332f0e0> of with 4 hidden neurons is 97.60820045558086%\n",
            "\tAccuracy of activation function <function getHyperTangent at 0x7fa9033a9320> of with 4 hidden neurons is 98.40546697038725%\n"
          ]
        },
        {
          "output_type": "stream",
          "name": "stderr",
          "text": [
            "/usr/local/lib/python3.7/dist-packages/ipykernel_launcher.py:36: MatplotlibDeprecationWarning: Unrecognized location 'bottom right'. Falling back on 'best'; valid locations are\n",
            "\tbest\n",
            "\tupper right\n",
            "\tupper left\n",
            "\tlower left\n",
            "\tlower right\n",
            "\tright\n",
            "\tcenter left\n",
            "\tcenter right\n",
            "\tlower center\n",
            "\tupper center\n",
            "\tcenter\n",
            "This will raise an exception in 3.3.\n"
          ]
        },
        {
          "output_type": "display_data",
          "data": {
            "image/png": "[encoded data removed]",
            "text/plain": [
              "<Figure size 432x288 with 1 Axes>"
            ]
          },
          "metadata": {
            "needs_background": "light"
          }
        }
      ]
    },
    {
      "cell_type": "code",
      "metadata": {
        "id": "csdjGbuFDyq4",
        "colab": {
          "base_uri": "https://localhost:8080/",
          "height": 295
        },
        "outputId": "3a610556-7735-420a-ae8d-755da45c9395"
      },
      "source": [
        "plt.title(\"'Eta' v/s Score of Activation functions\")\n",
        "plt.plot(eta_s, sig_scores,  label =\"Sigmoid Function\")\n",
        "plt.plot(eta_s, tanh_scores,  label =\"Tanh Function\")\n",
        "plt.xlabel(\"Learning Rate (eta) ->\")\n",
        "plt.ylabel(\"Accuracy of the Neural Network ->\")\n",
        "plt.legend(loc=\"lower right\")\n",
        "plt.show()"
      ],
      "id": "csdjGbuFDyq4",
      "execution_count": null,
      "outputs": [
        {
          "output_type": "display_data",
          "data": {
            "image/png": "[encoded data removed]",
            "text/plain": [
              "<Figure size 432x288 with 1 Axes>"
            ]
          },
          "metadata": {
            "needs_background": "light"
          }
        }
      ]
    },
    {
      "cell_type": "code",
      "metadata": {
        "id": "S39LFpQ79VxH"
      },
      "source": [
        "## Evaluating Squashing Function\n",
        "# Taking Max out of DataFrames\n",
        "scores_df = pd.DataFrame(best_scores)\n",
        "max_scores_df = scores_df.max()\n",
        "\n",
        "if max_scores_df['Sigmoid'] > max_scores_df['Tanh']:\n",
        "  max_df = scores_df[scores_df['Sigmoid'] == max_scores_df['Sigmoid']]\n",
        "  best_eta = max_df['Eta']\n",
        "  best_squashing_func = (getSigmoid, getSigmoidDerivative)\n",
        "else:\n",
        "  max_df = scores_df[scores_df['Tanh'] == max_scores_df['Tanh']]\n",
        "  best_eta = max_df['Eta']\n",
        "  best_squashing_func = (getHyperTangent, getHypTanDerivative)"
      ],
      "id": "S39LFpQ79VxH",
      "execution_count": null,
      "outputs": []
    },
    {
      "cell_type": "code",
      "metadata": {
        "colab": {
          "base_uri": "https://localhost:8080/"
        },
        "id": "f1ec03f6",
        "outputId": "31c90acb-578e-4df0-90f9-fd7922e57a4c"
      },
      "source": [
        "# Setup\n",
        "eta = best_eta\n",
        "\n",
        "# Selecting best activation function\n",
        "activation = best_squashing_func[0]\n",
        "act_derivative = best_squashing_func[1]\n",
        "\n",
        "#Run on Validation set with different hidden neurons till 1 and get best accuracy\n",
        "scores = { 'hidden_neurons': [], 'score': []}\n",
        "for n_hidden in range(4, 0,-1):\n",
        "  weights = getInitializedWeights(len(X_train_mat[0]), n_hidden, len(Y_train_mat_tanh[0]))\n",
        "  score = back_propagation(X_train_mat, Y_train_mat_tanh, X_valid_mat, Y_valid_mat_tanh, eta, epochs, n_hidden, activation, act_derivative, weights)\n",
        "  scores['hidden_neurons'].append(n_hidden)\n",
        "  scores['score'].append(score)\n",
        "  print(f'Accuracy with {n_hidden} hidden neurons is {score}%')\n"
      ],
      "id": "f1ec03f6",
      "execution_count": null,
      "outputs": [
        {
          "output_type": "stream",
          "name": "stdout",
          "text": [
            "Accuracy with 4 hidden neurons is 97.26651480637814%\n",
            "Accuracy with 3 hidden neurons is 98.40546697038725%\n",
            "Accuracy with 2 hidden neurons is 97.83599088838268%\n",
            "Accuracy with 1 hidden neurons is 97.15261958997722%\n"
          ]
        }
      ]
    },
    {
      "cell_type": "markdown",
      "metadata": {
        "id": "-BWKyzX6lFD4"
      },
      "source": [
        "#### Selecting the best Scores"
      ],
      "id": "-BWKyzX6lFD4"
    },
    {
      "cell_type": "code",
      "metadata": {
        "colab": {
          "base_uri": "https://localhost:8080/"
        },
        "id": "s4Gb1nRklEqx",
        "outputId": "52507c8c-baf5-458b-b899-a38fe12a6ed9"
      },
      "source": [
        "scores_df = pd.DataFrame(scores)\n",
        "best_scores_df = scores_df[scores_df['score'] == scores_df['score'].max()]\n",
        "best_hidden_neurons = int(best_scores_df.iloc[0]['hidden_neurons'])\n",
        "print(f\"The best number of neurons for the hidden layer is '{best_hidden_neurons}'\")"
      ],
      "id": "s4Gb1nRklEqx",
      "execution_count": null,
      "outputs": [
        {
          "output_type": "stream",
          "name": "stdout",
          "text": [
            "The best number of neurons for the hidden layer is '3'\n"
          ]
        }
      ]
    },
    {
      "cell_type": "markdown",
      "metadata": {
        "id": "yCPs0DB2mPao"
      },
      "source": [
        "#### Train the network on best parameters found.\n"
      ],
      "id": "yCPs0DB2mPao"
    },
    {
      "cell_type": "code",
      "metadata": {
        "colab": {
          "base_uri": "https://localhost:8080/"
        },
        "id": "b_tlqEn6mYpk",
        "outputId": "fa49830b-f67e-4fd6-d6e6-18bac9477448"
      },
      "source": [
        "# Final Parameters\n",
        "eta = best_eta\n",
        "n_hidden = best_hidden_neurons\n",
        "\n",
        "# Selecting best activation function\n",
        "activation = best_squashing_func[0]\n",
        "act_derivative = best_squashing_func[1]\n",
        "\n",
        "#Train on best neural network and test on it\n",
        "score = back_propagation(X_train_mat, Y_train_mat_tanh, X_test_mat, Y_test_mat_tanh, eta, epochs, n_hidden, activation, act_derivative)\n",
        "print(f'Accuracy with {n_hidden} hidden neurons is {score}%')"
      ],
      "id": "b_tlqEn6mYpk",
      "execution_count": null,
      "outputs": [
        {
          "output_type": "stream",
          "name": "stdout",
          "text": [
            "Accuracy with 3 hidden neurons is 99.63636363636364%\n"
          ]
        }
      ]
    }
  ]
}