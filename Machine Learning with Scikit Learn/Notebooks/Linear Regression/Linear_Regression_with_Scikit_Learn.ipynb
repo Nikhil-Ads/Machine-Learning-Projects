{
  "nbformat": 4,
  "nbformat_minor": 0,
  "metadata": {
    "colab": {
      "name": "Linear Regression with Scikit Learn.ipynb",
      "provenance": [],
      "collapsed_sections": [],
      "toc_visible": true
    },
    "kernelspec": {
      "name": "python3",
      "display_name": "Python 3"
    },
    "language_info": {
      "name": "python"
    }
  },
  "cells": [
    {
      "cell_type": "markdown",
      "metadata": {
        "id": "gNVXLeJHEyY_"
      },
      "source": [
        "# Linear Regression with Scikit Learn"
      ]
    },
    {
      "cell_type": "markdown",
      "metadata": {
        "id": "UCBrkLU8E-cP"
      },
      "source": [
        "## Load Data \n",
        "\n",
        "Load Data from 'Advertising.csv'."
      ]
    },
    {
      "cell_type": "code",
      "metadata": {
        "id": "hCPwl8m-BZ-X"
      },
      "source": [
        "import pandas as pd\n",
        "import matplotlib.pyplot as plt\n",
        "data=pd.read_csv(\"Advertising.csv\")"
      ],
      "execution_count": null,
      "outputs": []
    },
    {
      "cell_type": "markdown",
      "metadata": {
        "id": "3PMwoGGhFAJh"
      },
      "source": [
        "##Creating Required Features\n",
        "\n",
        "This step creates additional required features from given data loaded from dataframe.\n",
        "Here, we create the following features:\n",
        "1.   $(TV Advertisement)^2$\n",
        "2.   $(Radio Advertisement)^2$\n"
      ]
    },
    {
      "cell_type": "code",
      "metadata": {
        "id": "XWPh-NUuB2wO"
      },
      "source": [
        "data[\"TV_square\"]=data[\"TV\"]**2\n",
        "data[\"Radio_square\"]=data[\"Radio\"]**2"
      ],
      "execution_count": null,
      "outputs": []
    },
    {
      "cell_type": "markdown",
      "metadata": {
        "id": "OFX82qoRFqTF"
      },
      "source": [
        "## Forming the problem\n",
        "$$Sales=\\theta_0+\\theta_1(TV Advertisements)+\\theta_2(TV Advertisements)^2+\\theta_3(Radio Advertisement)+\\theta_4(Radio Advertisement)^2$$\n",
        "\n",
        "Loading required data into $X$ and $Y$ for the model."
      ]
    },
    {
      "cell_type": "code",
      "metadata": {
        "id": "p2t6ZwpQCbFN"
      },
      "source": [
        "X = data[[\"TV\",\"TV_square\",\"Radio\",\"Radio_square\"]]\n",
        "y = data['Sales']\n",
        "n = len(X)"
      ],
      "execution_count": null,
      "outputs": []
    },
    {
      "cell_type": "markdown",
      "metadata": {
        "id": "erd_MbJ8GsCR"
      },
      "source": [
        "## Data Split Data (Shuffle included!)\n",
        "\n",
        "Using scikit-learn, we split the given data into **Training and Test data**.\n",
        "\n",
        "This step gives us four sets:\n",
        "$X_{train}$, $X_{test}$, $Y_{train}$ and $Y_{test}$\n",
        "\n"
      ]
    },
    {
      "cell_type": "code",
      "metadata": {
        "id": "Kya3vqanDYTD"
      },
      "source": [
        "from sklearn.model_selection import train_test_split\n",
        "X_train, X_test, y_train, y_test = train_test_split(X, y, test_size=0.3)"
      ],
      "execution_count": null,
      "outputs": []
    },
    {
      "cell_type": "markdown",
      "metadata": {
        "id": "Y3Z3taPDHgkT"
      },
      "source": [
        "##Checking data details\n",
        "\n",
        "Here, we check the details for $X_{train}$ set."
      ]
    },
    {
      "cell_type": "code",
      "metadata": {
        "colab": {
          "base_uri": "https://localhost:8080/",
          "height": 423
        },
        "id": "rDzQeL5ADjER",
        "outputId": "f5858945-cf76-4085-f69d-9211190fe7d1"
      },
      "source": [
        "X_train"
      ],
      "execution_count": null,
      "outputs": [
        {
          "output_type": "execute_result",
          "data": {
            "text/html": [
              "\n",
              "  <div id=\"df-b3790224-0880-4ed7-a873-7306bf988765\">\n",
              "    <div class=\"colab-df-container\">\n",
              "      <div>\n",
              "<style scoped>\n",
              "    .dataframe tbody tr th:only-of-type {\n",
              "        vertical-align: middle;\n",
              "    }\n",
              "\n",
              "    .dataframe tbody tr th {\n",
              "        vertical-align: top;\n",
              "    }\n",
              "\n",
              "    .dataframe thead th {\n",
              "        text-align: right;\n",
              "    }\n",
              "</style>\n",
              "<table border=\"1\" class=\"dataframe\">\n",
              "  <thead>\n",
              "    <tr style=\"text-align: right;\">\n",
              "      <th></th>\n",
              "      <th>TV</th>\n",
              "      <th>TV_square</th>\n",
              "      <th>Radio</th>\n",
              "      <th>Radio_square</th>\n",
              "    </tr>\n",
              "  </thead>\n",
              "  <tbody>\n",
              "    <tr>\n",
              "      <th>23</th>\n",
              "      <td>228.3</td>\n",
              "      <td>52120.89</td>\n",
              "      <td>16.9</td>\n",
              "      <td>285.61</td>\n",
              "    </tr>\n",
              "    <tr>\n",
              "      <th>188</th>\n",
              "      <td>286.0</td>\n",
              "      <td>81796.00</td>\n",
              "      <td>13.9</td>\n",
              "      <td>193.21</td>\n",
              "    </tr>\n",
              "    <tr>\n",
              "      <th>166</th>\n",
              "      <td>17.9</td>\n",
              "      <td>320.41</td>\n",
              "      <td>37.6</td>\n",
              "      <td>1413.76</td>\n",
              "    </tr>\n",
              "    <tr>\n",
              "      <th>53</th>\n",
              "      <td>182.6</td>\n",
              "      <td>33342.76</td>\n",
              "      <td>46.2</td>\n",
              "      <td>2134.44</td>\n",
              "    </tr>\n",
              "    <tr>\n",
              "      <th>33</th>\n",
              "      <td>265.6</td>\n",
              "      <td>70543.36</td>\n",
              "      <td>20.0</td>\n",
              "      <td>400.00</td>\n",
              "    </tr>\n",
              "    <tr>\n",
              "      <th>...</th>\n",
              "      <td>...</td>\n",
              "      <td>...</td>\n",
              "      <td>...</td>\n",
              "      <td>...</td>\n",
              "    </tr>\n",
              "    <tr>\n",
              "      <th>52</th>\n",
              "      <td>216.4</td>\n",
              "      <td>46828.96</td>\n",
              "      <td>41.7</td>\n",
              "      <td>1738.89</td>\n",
              "    </tr>\n",
              "    <tr>\n",
              "      <th>192</th>\n",
              "      <td>17.2</td>\n",
              "      <td>295.84</td>\n",
              "      <td>4.1</td>\n",
              "      <td>16.81</td>\n",
              "    </tr>\n",
              "    <tr>\n",
              "      <th>193</th>\n",
              "      <td>166.8</td>\n",
              "      <td>27822.24</td>\n",
              "      <td>42.0</td>\n",
              "      <td>1764.00</td>\n",
              "    </tr>\n",
              "    <tr>\n",
              "      <th>108</th>\n",
              "      <td>13.1</td>\n",
              "      <td>171.61</td>\n",
              "      <td>0.4</td>\n",
              "      <td>0.16</td>\n",
              "    </tr>\n",
              "    <tr>\n",
              "      <th>54</th>\n",
              "      <td>262.7</td>\n",
              "      <td>69011.29</td>\n",
              "      <td>28.8</td>\n",
              "      <td>829.44</td>\n",
              "    </tr>\n",
              "  </tbody>\n",
              "</table>\n",
              "<p>140 rows × 4 columns</p>\n",
              "</div>\n",
              "      <button class=\"colab-df-convert\" onclick=\"convertToInteractive('df-b3790224-0880-4ed7-a873-7306bf988765')\"\n",
              "              title=\"Convert this dataframe to an interactive table.\"\n",
              "              style=\"display:none;\">\n",
              "        \n",
              "  <svg xmlns=\"http://www.w3.org/2000/svg\" height=\"24px\"viewBox=\"0 0 24 24\"\n",
              "       width=\"24px\">\n",
              "    <path d=\"M0 0h24v24H0V0z\" fill=\"none\"/>\n",
              "    <path d=\"M18.56 5.44l.94 2.06.94-2.06 2.06-.94-2.06-.94-.94-2.06-.94 2.06-2.06.94zm-11 1L8.5 8.5l.94-2.06 2.06-.94-2.06-.94L8.5 2.5l-.94 2.06-2.06.94zm10 10l.94 2.06.94-2.06 2.06-.94-2.06-.94-.94-2.06-.94 2.06-2.06.94z\"/><path d=\"M17.41 7.96l-1.37-1.37c-.4-.4-.92-.59-1.43-.59-.52 0-1.04.2-1.43.59L10.3 9.45l-7.72 7.72c-.78.78-.78 2.05 0 2.83L4 21.41c.39.39.9.59 1.41.59.51 0 1.02-.2 1.41-.59l7.78-7.78 2.81-2.81c.8-.78.8-2.07 0-2.86zM5.41 20L4 18.59l7.72-7.72 1.47 1.35L5.41 20z\"/>\n",
              "  </svg>\n",
              "      </button>\n",
              "      \n",
              "  <style>\n",
              "    .colab-df-container {\n",
              "      display:flex;\n",
              "      flex-wrap:wrap;\n",
              "      gap: 12px;\n",
              "    }\n",
              "\n",
              "    .colab-df-convert {\n",
              "      background-color: #E8F0FE;\n",
              "      border: none;\n",
              "      border-radius: 50%;\n",
              "      cursor: pointer;\n",
              "      display: none;\n",
              "      fill: #1967D2;\n",
              "      height: 32px;\n",
              "      padding: 0 0 0 0;\n",
              "      width: 32px;\n",
              "    }\n",
              "\n",
              "    .colab-df-convert:hover {\n",
              "      background-color: #E2EBFA;\n",
              "      box-shadow: 0px 1px 2px rgba(60, 64, 67, 0.3), 0px 1px 3px 1px rgba(60, 64, 67, 0.15);\n",
              "      fill: #174EA6;\n",
              "    }\n",
              "\n",
              "    [theme=dark] .colab-df-convert {\n",
              "      background-color: #3B4455;\n",
              "      fill: #D2E3FC;\n",
              "    }\n",
              "\n",
              "    [theme=dark] .colab-df-convert:hover {\n",
              "      background-color: #434B5C;\n",
              "      box-shadow: 0px 1px 3px 1px rgba(0, 0, 0, 0.15);\n",
              "      filter: drop-shadow(0px 1px 2px rgba(0, 0, 0, 0.3));\n",
              "      fill: #FFFFFF;\n",
              "    }\n",
              "  </style>\n",
              "\n",
              "      <script>\n",
              "        const buttonEl =\n",
              "          document.querySelector('#df-b3790224-0880-4ed7-a873-7306bf988765 button.colab-df-convert');\n",
              "        buttonEl.style.display =\n",
              "          google.colab.kernel.accessAllowed ? 'block' : 'none';\n",
              "\n",
              "        async function convertToInteractive(key) {\n",
              "          const element = document.querySelector('#df-b3790224-0880-4ed7-a873-7306bf988765');\n",
              "          const dataTable =\n",
              "            await google.colab.kernel.invokeFunction('convertToInteractive',\n",
              "                                                     [key], {});\n",
              "          if (!dataTable) return;\n",
              "\n",
              "          const docLinkHtml = 'Like what you see? Visit the ' +\n",
              "            '<a target=\"_blank\" href=https://colab.research.google.com/notebooks/data_table.ipynb>data table notebook</a>'\n",
              "            + ' to learn more about interactive tables.';\n",
              "          element.innerHTML = '';\n",
              "          dataTable['output_type'] = 'display_data';\n",
              "          await google.colab.output.renderOutput(dataTable, element);\n",
              "          const docLink = document.createElement('div');\n",
              "          docLink.innerHTML = docLinkHtml;\n",
              "          element.appendChild(docLink);\n",
              "        }\n",
              "      </script>\n",
              "    </div>\n",
              "  </div>\n",
              "  "
            ],
            "text/plain": [
              "        TV  TV_square  Radio  Radio_square\n",
              "23   228.3   52120.89   16.9        285.61\n",
              "188  286.0   81796.00   13.9        193.21\n",
              "166   17.9     320.41   37.6       1413.76\n",
              "53   182.6   33342.76   46.2       2134.44\n",
              "33   265.6   70543.36   20.0        400.00\n",
              "..     ...        ...    ...           ...\n",
              "52   216.4   46828.96   41.7       1738.89\n",
              "192   17.2     295.84    4.1         16.81\n",
              "193  166.8   27822.24   42.0       1764.00\n",
              "108   13.1     171.61    0.4          0.16\n",
              "54   262.7   69011.29   28.8        829.44\n",
              "\n",
              "[140 rows x 4 columns]"
            ]
          },
          "metadata": {},
          "execution_count": 5
        }
      ]
    },
    {
      "cell_type": "markdown",
      "metadata": {
        "id": "kDDY-Ds_HrKk"
      },
      "source": [
        "##Training the model\n",
        "\n",
        "Here, we use scikit-learn, to train our linear regression model. We also print the **Coeffecients** and **Intercept** of the trained model."
      ]
    },
    {
      "cell_type": "code",
      "metadata": {
        "colab": {
          "base_uri": "https://localhost:8080/"
        },
        "id": "tCH3JryoDvLp",
        "outputId": "1768bdbe-37c6-4d7c-d0b2-20c2a0ace282"
      },
      "source": [
        "from sklearn.linear_model import LinearRegression\n",
        "model = LinearRegression(normalize=True)\n",
        "model.fit(X_train,y_train)\n",
        "print(\"Coeffecients of the trained model:\\n\", model.coef_)\n",
        "print(\"Intercept of the trained model: \", model.intercept_)"
      ],
      "execution_count": null,
      "outputs": [
        {
          "output_type": "stream",
          "name": "stdout",
          "text": [
            "Coeffecients of the trained model:\n",
            " [ 8.19713528e-02 -1.21830535e-04  1.43317445e-01  1.01302166e-03]\n",
            "Intercept of the trained model:  1.4395985349804459\n"
          ]
        },
        {
          "output_type": "stream",
          "name": "stderr",
          "text": [
            "/usr/local/lib/python3.7/dist-packages/sklearn/linear_model/_base.py:145: FutureWarning: 'normalize' was deprecated in version 1.0 and will be removed in 1.2.\n",
            "If you wish to scale the data, use Pipeline with a StandardScaler in a preprocessing stage. To reproduce the previous behavior:\n",
            "\n",
            "from sklearn.pipeline import make_pipeline\n",
            "\n",
            "model = make_pipeline(StandardScaler(with_mean=False), LinearRegression())\n",
            "\n",
            "If you wish to pass a sample_weight parameter, you need to pass it as a fit parameter to each step of the pipeline as follows:\n",
            "\n",
            "kwargs = {s[0] + '__sample_weight': sample_weight for s in model.steps}\n",
            "model.fit(X, y, **kwargs)\n",
            "\n",
            "\n",
            "  FutureWarning,\n"
          ]
        }
      ]
    },
    {
      "cell_type": "markdown",
      "metadata": {
        "id": "eX3jlMxiIgOo"
      },
      "source": [
        "## Predictions\n",
        "\n",
        "Here, I use the trained model to predict the values of $Sales$, on **training and test data set**."
      ]
    },
    {
      "cell_type": "code",
      "metadata": {
        "id": "j3qr1rd0EDkf"
      },
      "source": [
        "test_predictions = model.predict(X_test)\n",
        "train_predictions = model.predict(X_train)"
      ],
      "execution_count": null,
      "outputs": []
    },
    {
      "cell_type": "markdown",
      "metadata": {
        "id": "jaOmSuAbIyEi"
      },
      "source": [
        "##Plot of **Sales  V/S  (TV Advertisement)**\n",
        "\n",
        "Here, I plot a scatter plot of the values of the $Sales$ as a function of $(TV Advertisement)$ and overlay the predicted values of the model."
      ]
    },
    {
      "cell_type": "code",
      "metadata": {
        "colab": {
          "base_uri": "https://localhost:8080/",
          "height": 313
        },
        "id": "2jzkkfhVEP_g",
        "outputId": "23215c40-eb8f-4222-9b5a-a90b83380da1"
      },
      "source": [
        "plt.title(\"Plot of Sales V/S 'TV Advertisements'\")\n",
        "plt.xlabel(\"TV Advertisements\")\n",
        "plt.ylabel(\"Sales\")\n",
        "plt.scatter(X_test['TV'],y_test, label = \"Actual Values\")\n",
        "plt.scatter(X_test['TV'],test_predictions,color='red', label = \"Predicted Values\")\n",
        "plt.legend(loc = \"upper left\")"
      ],
      "execution_count": null,
      "outputs": [
        {
          "output_type": "execute_result",
          "data": {
            "text/plain": [
              "<matplotlib.legend.Legend at 0x7f2003c53c90>"
            ]
          },
          "metadata": {},
          "execution_count": 8
        },
        {
          "output_type": "display_data",
          "data": {
            "image/png": "[encoded data removed]",
            "text/plain": [
              "<Figure size 432x288 with 1 Axes>"
            ]
          },
          "metadata": {
            "needs_background": "light"
          }
        }
      ]
    },
    {
      "cell_type": "markdown",
      "metadata": {
        "id": "QxkGJ3x9KoL9"
      },
      "source": [
        "## Computation of loss over training and testing data"
      ]
    },
    {
      "cell_type": "code",
      "metadata": {
        "id": "o-J_xNf2EjVB"
      },
      "source": [
        "from sklearn.metrics import mean_squared_error"
      ],
      "execution_count": null,
      "outputs": []
    },
    {
      "cell_type": "markdown",
      "metadata": {
        "id": "sxCDWOzDLBe7"
      },
      "source": [
        "###Loss over training data\n",
        "\n",
        "Here, I compute the loss over the **training** data."
      ]
    },
    {
      "cell_type": "code",
      "metadata": {
        "colab": {
          "base_uri": "https://localhost:8080/"
        },
        "id": "fUz3aiWYEsHk",
        "outputId": "0025a169-b93b-4b82-8dc8-b5ff71689c8a"
      },
      "source": [
        "MSE_Train = mean_squared_error(y_train,train_predictions)\n",
        "print (MSE_Train)"
      ],
      "execution_count": null,
      "outputs": [
        {
          "output_type": "stream",
          "name": "stdout",
          "text": [
            "2.533596597882472\n"
          ]
        }
      ]
    },
    {
      "cell_type": "markdown",
      "metadata": {
        "id": "KZZaQ62iKwuW"
      },
      "source": [
        "###Loss over testing data\n",
        "\n",
        "Here, I compute the loss over the **testing** data."
      ]
    },
    {
      "cell_type": "code",
      "metadata": {
        "colab": {
          "base_uri": "https://localhost:8080/"
        },
        "id": "TxC-Qhi7ElfK",
        "outputId": "694c1eb7-2548-4adb-85dd-d6b24de99475"
      },
      "source": [
        "MSE_Test = mean_squared_error(y_test,test_predictions)\n",
        "print (MSE_Test)"
      ],
      "execution_count": null,
      "outputs": [
        {
          "output_type": "stream",
          "name": "stdout",
          "text": [
            "1.6087402622423495\n"
          ]
        }
      ]
    }
  ]
}