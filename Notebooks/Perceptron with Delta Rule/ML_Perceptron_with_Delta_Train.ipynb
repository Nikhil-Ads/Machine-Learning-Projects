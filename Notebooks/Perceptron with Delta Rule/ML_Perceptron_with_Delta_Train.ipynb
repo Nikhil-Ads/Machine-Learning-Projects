{
  "nbformat": 4,
  "nbformat_minor": 0,
  "metadata": {
    "colab": {
      "name": "ML - Perceptron with Delta Train.ipynb",
      "provenance": [],
      "toc_visible": true,
      "collapsed_sections": []
    },
    "kernelspec": {
      "name": "python3",
      "display_name": "Python 3"
    },
    "language_info": {
      "name": "python"
    }
  },
  "cells": [
    {
      "cell_type": "markdown",
      "source": [
        "# Perceptron with Delta Train Implementation"
      ],
      "metadata": {
        "id": "ifpVmevW3sBN"
      }
    },
    {
      "cell_type": "markdown",
      "source": [
        "## Import packages"
      ],
      "metadata": {
        "id": "U5N6OFBV6w4y"
      }
    },
    {
      "cell_type": "code",
      "source": [
        "import numpy as np\n",
        "import time\n",
        "import pandas as pd\n",
        "import matplotlib.pyplot as plt"
      ],
      "metadata": {
        "id": "YlsXOuZH4E3j"
      },
      "execution_count": 1,
      "outputs": []
    },
    {
      "cell_type": "markdown",
      "source": [
        "## Dataset Generator\n",
        "\n",
        "This section will generate the dataset. The dataset that is generated has 2 features: *X1 and X2*. It has a total of **200** data points and has 2 classes: ***-1 and 1***."
      ],
      "metadata": {
        "id": "Ax7n8rqn62-D"
      }
    },
    {
      "cell_type": "code",
      "source": [
        "#Function to assign classes\n",
        "def getFeatureClasses():\n",
        "    pos = 0\n",
        "    neg = 0\n",
        "\n",
        "    while (pos!=100 and neg!=100):\n",
        "        pos = 0\n",
        "        neg = 0\n",
        "        #Generate 2 random feature with 200 data points between -40 and 40\n",
        "        X1 = np.random.randint(-40,40,200)\n",
        "        X2 = np.random.randint(-40,40,200)\n",
        "        Y = []\n",
        "        Y_calculated = X1 + (3*X2) - 2\n",
        "        for val in Y_calculated:\n",
        "            if val > 0:\n",
        "                Y.append(1)\n",
        "                pos = pos + 1\n",
        "            else:\n",
        "                Y.append(-1)\n",
        "                neg = neg + 1\n",
        "    return (list(X1),list(X2),Y)"
      ],
      "metadata": {
        "id": "8yoH7L9p4Ep_"
      },
      "execution_count": 2,
      "outputs": []
    },
    {
      "cell_type": "code",
      "source": [
        "#Get target output class\n",
        "(X1,X2,Y) = getFeatureClasses()"
      ],
      "metadata": {
        "id": "rL5e6A9r4Edj"
      },
      "execution_count": 3,
      "outputs": []
    },
    {
      "cell_type": "code",
      "source": [
        "#Create dataframe\n",
        "df = pd.DataFrame({'X1':X1, 'X2':X2, 'Y':Y})"
      ],
      "metadata": {
        "id": "FOeZ64Sc4XuO"
      },
      "execution_count": 4,
      "outputs": []
    },
    {
      "cell_type": "code",
      "source": [
        "#Add bias term/feature\n",
        "bias = np.ones(len(X1))\n",
        "df['bias'] = bias"
      ],
      "metadata": {
        "id": "c0Tx9jkC4bmQ"
      },
      "execution_count": 5,
      "outputs": []
    },
    {
      "cell_type": "markdown",
      "source": [
        "## About the Dataset "
      ],
      "metadata": {
        "id": "8aw6WUri_BIv"
      }
    },
    {
      "cell_type": "code",
      "source": [
        "#Check head\n",
        "df.head()"
      ],
      "metadata": {
        "colab": {
          "base_uri": "https://localhost:8080/",
          "height": 206
        },
        "id": "DzyO_7o94eAR",
        "outputId": "db96be65-b202-4642-dcc9-ba949123d222"
      },
      "execution_count": 6,
      "outputs": [
        {
          "output_type": "execute_result",
          "data": {
            "text/html": [
              "\n",
              "  <div id=\"df-e0256c9d-e254-4802-b400-43e13610e376\">\n",
              "    <div class=\"colab-df-container\">\n",
              "      <div>\n",
              "<style scoped>\n",
              "    .dataframe tbody tr th:only-of-type {\n",
              "        vertical-align: middle;\n",
              "    }\n",
              "\n",
              "    .dataframe tbody tr th {\n",
              "        vertical-align: top;\n",
              "    }\n",
              "\n",
              "    .dataframe thead th {\n",
              "        text-align: right;\n",
              "    }\n",
              "</style>\n",
              "<table border=\"1\" class=\"dataframe\">\n",
              "  <thead>\n",
              "    <tr style=\"text-align: right;\">\n",
              "      <th></th>\n",
              "      <th>X1</th>\n",
              "      <th>X2</th>\n",
              "      <th>Y</th>\n",
              "      <th>bias</th>\n",
              "    </tr>\n",
              "  </thead>\n",
              "  <tbody>\n",
              "    <tr>\n",
              "      <th>0</th>\n",
              "      <td>-15</td>\n",
              "      <td>-20</td>\n",
              "      <td>-1</td>\n",
              "      <td>1.0</td>\n",
              "    </tr>\n",
              "    <tr>\n",
              "      <th>1</th>\n",
              "      <td>-21</td>\n",
              "      <td>33</td>\n",
              "      <td>1</td>\n",
              "      <td>1.0</td>\n",
              "    </tr>\n",
              "    <tr>\n",
              "      <th>2</th>\n",
              "      <td>10</td>\n",
              "      <td>-2</td>\n",
              "      <td>1</td>\n",
              "      <td>1.0</td>\n",
              "    </tr>\n",
              "    <tr>\n",
              "      <th>3</th>\n",
              "      <td>39</td>\n",
              "      <td>-7</td>\n",
              "      <td>1</td>\n",
              "      <td>1.0</td>\n",
              "    </tr>\n",
              "    <tr>\n",
              "      <th>4</th>\n",
              "      <td>-25</td>\n",
              "      <td>38</td>\n",
              "      <td>1</td>\n",
              "      <td>1.0</td>\n",
              "    </tr>\n",
              "  </tbody>\n",
              "</table>\n",
              "</div>\n",
              "      <button class=\"colab-df-convert\" onclick=\"convertToInteractive('df-e0256c9d-e254-4802-b400-43e13610e376')\"\n",
              "              title=\"Convert this dataframe to an interactive table.\"\n",
              "              style=\"display:none;\">\n",
              "        \n",
              "  <svg xmlns=\"http://www.w3.org/2000/svg\" height=\"24px\"viewBox=\"0 0 24 24\"\n",
              "       width=\"24px\">\n",
              "    <path d=\"M0 0h24v24H0V0z\" fill=\"none\"/>\n",
              "    <path d=\"M18.56 5.44l.94 2.06.94-2.06 2.06-.94-2.06-.94-.94-2.06-.94 2.06-2.06.94zm-11 1L8.5 8.5l.94-2.06 2.06-.94-2.06-.94L8.5 2.5l-.94 2.06-2.06.94zm10 10l.94 2.06.94-2.06 2.06-.94-2.06-.94-.94-2.06-.94 2.06-2.06.94z\"/><path d=\"M17.41 7.96l-1.37-1.37c-.4-.4-.92-.59-1.43-.59-.52 0-1.04.2-1.43.59L10.3 9.45l-7.72 7.72c-.78.78-.78 2.05 0 2.83L4 21.41c.39.39.9.59 1.41.59.51 0 1.02-.2 1.41-.59l7.78-7.78 2.81-2.81c.8-.78.8-2.07 0-2.86zM5.41 20L4 18.59l7.72-7.72 1.47 1.35L5.41 20z\"/>\n",
              "  </svg>\n",
              "      </button>\n",
              "      \n",
              "  <style>\n",
              "    .colab-df-container {\n",
              "      display:flex;\n",
              "      flex-wrap:wrap;\n",
              "      gap: 12px;\n",
              "    }\n",
              "\n",
              "    .colab-df-convert {\n",
              "      background-color: #E8F0FE;\n",
              "      border: none;\n",
              "      border-radius: 50%;\n",
              "      cursor: pointer;\n",
              "      display: none;\n",
              "      fill: #1967D2;\n",
              "      height: 32px;\n",
              "      padding: 0 0 0 0;\n",
              "      width: 32px;\n",
              "    }\n",
              "\n",
              "    .colab-df-convert:hover {\n",
              "      background-color: #E2EBFA;\n",
              "      box-shadow: 0px 1px 2px rgba(60, 64, 67, 0.3), 0px 1px 3px 1px rgba(60, 64, 67, 0.15);\n",
              "      fill: #174EA6;\n",
              "    }\n",
              "\n",
              "    [theme=dark] .colab-df-convert {\n",
              "      background-color: #3B4455;\n",
              "      fill: #D2E3FC;\n",
              "    }\n",
              "\n",
              "    [theme=dark] .colab-df-convert:hover {\n",
              "      background-color: #434B5C;\n",
              "      box-shadow: 0px 1px 3px 1px rgba(0, 0, 0, 0.15);\n",
              "      filter: drop-shadow(0px 1px 2px rgba(0, 0, 0, 0.3));\n",
              "      fill: #FFFFFF;\n",
              "    }\n",
              "  </style>\n",
              "\n",
              "      <script>\n",
              "        const buttonEl =\n",
              "          document.querySelector('#df-e0256c9d-e254-4802-b400-43e13610e376 button.colab-df-convert');\n",
              "        buttonEl.style.display =\n",
              "          google.colab.kernel.accessAllowed ? 'block' : 'none';\n",
              "\n",
              "        async function convertToInteractive(key) {\n",
              "          const element = document.querySelector('#df-e0256c9d-e254-4802-b400-43e13610e376');\n",
              "          const dataTable =\n",
              "            await google.colab.kernel.invokeFunction('convertToInteractive',\n",
              "                                                     [key], {});\n",
              "          if (!dataTable) return;\n",
              "\n",
              "          const docLinkHtml = 'Like what you see? Visit the ' +\n",
              "            '<a target=\"_blank\" href=https://colab.research.google.com/notebooks/data_table.ipynb>data table notebook</a>'\n",
              "            + ' to learn more about interactive tables.';\n",
              "          element.innerHTML = '';\n",
              "          dataTable['output_type'] = 'display_data';\n",
              "          await google.colab.output.renderOutput(dataTable, element);\n",
              "          const docLink = document.createElement('div');\n",
              "          docLink.innerHTML = docLinkHtml;\n",
              "          element.appendChild(docLink);\n",
              "        }\n",
              "      </script>\n",
              "    </div>\n",
              "  </div>\n",
              "  "
            ],
            "text/plain": [
              "   X1  X2  Y  bias\n",
              "0 -15 -20 -1   1.0\n",
              "1 -21  33  1   1.0\n",
              "2  10  -2  1   1.0\n",
              "3  39  -7  1   1.0\n",
              "4 -25  38  1   1.0"
            ]
          },
          "metadata": {},
          "execution_count": 6
        }
      ]
    },
    {
      "cell_type": "code",
      "source": [
        "df.describe()"
      ],
      "metadata": {
        "id": "a7XjtZFg_oKK",
        "outputId": "87e9910f-adc8-4fb5-c42c-395fab8a1281",
        "colab": {
          "base_uri": "https://localhost:8080/",
          "height": 300
        }
      },
      "execution_count": 7,
      "outputs": [
        {
          "output_type": "execute_result",
          "data": {
            "text/html": [
              "\n",
              "  <div id=\"df-0388a460-1a7b-4de8-a480-8bc7233d471b\">\n",
              "    <div class=\"colab-df-container\">\n",
              "      <div>\n",
              "<style scoped>\n",
              "    .dataframe tbody tr th:only-of-type {\n",
              "        vertical-align: middle;\n",
              "    }\n",
              "\n",
              "    .dataframe tbody tr th {\n",
              "        vertical-align: top;\n",
              "    }\n",
              "\n",
              "    .dataframe thead th {\n",
              "        text-align: right;\n",
              "    }\n",
              "</style>\n",
              "<table border=\"1\" class=\"dataframe\">\n",
              "  <thead>\n",
              "    <tr style=\"text-align: right;\">\n",
              "      <th></th>\n",
              "      <th>X1</th>\n",
              "      <th>X2</th>\n",
              "      <th>Y</th>\n",
              "      <th>bias</th>\n",
              "    </tr>\n",
              "  </thead>\n",
              "  <tbody>\n",
              "    <tr>\n",
              "      <th>count</th>\n",
              "      <td>200.000000</td>\n",
              "      <td>200.000000</td>\n",
              "      <td>200.000000</td>\n",
              "      <td>200.0</td>\n",
              "    </tr>\n",
              "    <tr>\n",
              "      <th>mean</th>\n",
              "      <td>-2.520000</td>\n",
              "      <td>1.275000</td>\n",
              "      <td>0.000000</td>\n",
              "      <td>1.0</td>\n",
              "    </tr>\n",
              "    <tr>\n",
              "      <th>std</th>\n",
              "      <td>23.458283</td>\n",
              "      <td>23.845385</td>\n",
              "      <td>1.002509</td>\n",
              "      <td>0.0</td>\n",
              "    </tr>\n",
              "    <tr>\n",
              "      <th>min</th>\n",
              "      <td>-40.000000</td>\n",
              "      <td>-40.000000</td>\n",
              "      <td>-1.000000</td>\n",
              "      <td>1.0</td>\n",
              "    </tr>\n",
              "    <tr>\n",
              "      <th>25%</th>\n",
              "      <td>-24.250000</td>\n",
              "      <td>-18.250000</td>\n",
              "      <td>-1.000000</td>\n",
              "      <td>1.0</td>\n",
              "    </tr>\n",
              "    <tr>\n",
              "      <th>50%</th>\n",
              "      <td>-1.000000</td>\n",
              "      <td>1.500000</td>\n",
              "      <td>0.000000</td>\n",
              "      <td>1.0</td>\n",
              "    </tr>\n",
              "    <tr>\n",
              "      <th>75%</th>\n",
              "      <td>18.000000</td>\n",
              "      <td>24.250000</td>\n",
              "      <td>1.000000</td>\n",
              "      <td>1.0</td>\n",
              "    </tr>\n",
              "    <tr>\n",
              "      <th>max</th>\n",
              "      <td>39.000000</td>\n",
              "      <td>39.000000</td>\n",
              "      <td>1.000000</td>\n",
              "      <td>1.0</td>\n",
              "    </tr>\n",
              "  </tbody>\n",
              "</table>\n",
              "</div>\n",
              "      <button class=\"colab-df-convert\" onclick=\"convertToInteractive('df-0388a460-1a7b-4de8-a480-8bc7233d471b')\"\n",
              "              title=\"Convert this dataframe to an interactive table.\"\n",
              "              style=\"display:none;\">\n",
              "        \n",
              "  <svg xmlns=\"http://www.w3.org/2000/svg\" height=\"24px\"viewBox=\"0 0 24 24\"\n",
              "       width=\"24px\">\n",
              "    <path d=\"M0 0h24v24H0V0z\" fill=\"none\"/>\n",
              "    <path d=\"M18.56 5.44l.94 2.06.94-2.06 2.06-.94-2.06-.94-.94-2.06-.94 2.06-2.06.94zm-11 1L8.5 8.5l.94-2.06 2.06-.94-2.06-.94L8.5 2.5l-.94 2.06-2.06.94zm10 10l.94 2.06.94-2.06 2.06-.94-2.06-.94-.94-2.06-.94 2.06-2.06.94z\"/><path d=\"M17.41 7.96l-1.37-1.37c-.4-.4-.92-.59-1.43-.59-.52 0-1.04.2-1.43.59L10.3 9.45l-7.72 7.72c-.78.78-.78 2.05 0 2.83L4 21.41c.39.39.9.59 1.41.59.51 0 1.02-.2 1.41-.59l7.78-7.78 2.81-2.81c.8-.78.8-2.07 0-2.86zM5.41 20L4 18.59l7.72-7.72 1.47 1.35L5.41 20z\"/>\n",
              "  </svg>\n",
              "      </button>\n",
              "      \n",
              "  <style>\n",
              "    .colab-df-container {\n",
              "      display:flex;\n",
              "      flex-wrap:wrap;\n",
              "      gap: 12px;\n",
              "    }\n",
              "\n",
              "    .colab-df-convert {\n",
              "      background-color: #E8F0FE;\n",
              "      border: none;\n",
              "      border-radius: 50%;\n",
              "      cursor: pointer;\n",
              "      display: none;\n",
              "      fill: #1967D2;\n",
              "      height: 32px;\n",
              "      padding: 0 0 0 0;\n",
              "      width: 32px;\n",
              "    }\n",
              "\n",
              "    .colab-df-convert:hover {\n",
              "      background-color: #E2EBFA;\n",
              "      box-shadow: 0px 1px 2px rgba(60, 64, 67, 0.3), 0px 1px 3px 1px rgba(60, 64, 67, 0.15);\n",
              "      fill: #174EA6;\n",
              "    }\n",
              "\n",
              "    [theme=dark] .colab-df-convert {\n",
              "      background-color: #3B4455;\n",
              "      fill: #D2E3FC;\n",
              "    }\n",
              "\n",
              "    [theme=dark] .colab-df-convert:hover {\n",
              "      background-color: #434B5C;\n",
              "      box-shadow: 0px 1px 3px 1px rgba(0, 0, 0, 0.15);\n",
              "      filter: drop-shadow(0px 1px 2px rgba(0, 0, 0, 0.3));\n",
              "      fill: #FFFFFF;\n",
              "    }\n",
              "  </style>\n",
              "\n",
              "      <script>\n",
              "        const buttonEl =\n",
              "          document.querySelector('#df-0388a460-1a7b-4de8-a480-8bc7233d471b button.colab-df-convert');\n",
              "        buttonEl.style.display =\n",
              "          google.colab.kernel.accessAllowed ? 'block' : 'none';\n",
              "\n",
              "        async function convertToInteractive(key) {\n",
              "          const element = document.querySelector('#df-0388a460-1a7b-4de8-a480-8bc7233d471b');\n",
              "          const dataTable =\n",
              "            await google.colab.kernel.invokeFunction('convertToInteractive',\n",
              "                                                     [key], {});\n",
              "          if (!dataTable) return;\n",
              "\n",
              "          const docLinkHtml = 'Like what you see? Visit the ' +\n",
              "            '<a target=\"_blank\" href=https://colab.research.google.com/notebooks/data_table.ipynb>data table notebook</a>'\n",
              "            + ' to learn more about interactive tables.';\n",
              "          element.innerHTML = '';\n",
              "          dataTable['output_type'] = 'display_data';\n",
              "          await google.colab.output.renderOutput(dataTable, element);\n",
              "          const docLink = document.createElement('div');\n",
              "          docLink.innerHTML = docLinkHtml;\n",
              "          element.appendChild(docLink);\n",
              "        }\n",
              "      </script>\n",
              "    </div>\n",
              "  </div>\n",
              "  "
            ],
            "text/plain": [
              "               X1          X2           Y   bias\n",
              "count  200.000000  200.000000  200.000000  200.0\n",
              "mean    -2.520000    1.275000    0.000000    1.0\n",
              "std     23.458283   23.845385    1.002509    0.0\n",
              "min    -40.000000  -40.000000   -1.000000    1.0\n",
              "25%    -24.250000  -18.250000   -1.000000    1.0\n",
              "50%     -1.000000    1.500000    0.000000    1.0\n",
              "75%     18.000000   24.250000    1.000000    1.0\n",
              "max     39.000000   39.000000    1.000000    1.0"
            ]
          },
          "metadata": {},
          "execution_count": 7
        }
      ]
    },
    {
      "cell_type": "code",
      "source": [
        "df.info()"
      ],
      "metadata": {
        "id": "CCRByxI8_qj2",
        "outputId": "e9aaffb1-59c4-4ebc-d0ce-f0a9f0b3dde1",
        "colab": {
          "base_uri": "https://localhost:8080/"
        }
      },
      "execution_count": 8,
      "outputs": [
        {
          "output_type": "stream",
          "name": "stdout",
          "text": [
            "<class 'pandas.core.frame.DataFrame'>\n",
            "RangeIndex: 200 entries, 0 to 199\n",
            "Data columns (total 4 columns):\n",
            " #   Column  Non-Null Count  Dtype  \n",
            "---  ------  --------------  -----  \n",
            " 0   X1      200 non-null    int64  \n",
            " 1   X2      200 non-null    int64  \n",
            " 2   Y       200 non-null    int64  \n",
            " 3   bias    200 non-null    float64\n",
            "dtypes: float64(1), int64(3)\n",
            "memory usage: 6.4 KB\n"
          ]
        }
      ]
    },
    {
      "cell_type": "markdown",
      "source": [
        "## Separating Dataset into Features and Labels"
      ],
      "metadata": {
        "id": "2LM24CAJ_gOt"
      }
    },
    {
      "cell_type": "code",
      "source": [
        "#Define our feature and target dataframes\n",
        "X = df[['X1','X2','bias']]\n",
        "Y = df[['Y']]\n",
        "\n",
        "#Send matrix form\n",
        "X_mat = X.to_numpy()\n",
        "Y_mat = Y.to_numpy()"
      ],
      "metadata": {
        "id": "xnP1oQ824hQo"
      },
      "execution_count": 9,
      "outputs": []
    },
    {
      "cell_type": "markdown",
      "source": [
        "## Delta Train"
      ],
      "metadata": {
        "id": "nHk-CuTJLMVq"
      }
    },
    {
      "cell_type": "markdown",
      "source": [
        "### Methods Definition"
      ],
      "metadata": {
        "id": "VhRqSvnaHcfR"
      }
    },
    {
      "cell_type": "markdown",
      "source": [
        "#### Common Methods"
      ],
      "metadata": {
        "id": "oGU2lfzjID0P"
      }
    },
    {
      "cell_type": "code",
      "source": [
        "#Function to display Training Error per Epoch\n",
        "def plotError(error):\n",
        "    E = [i+1 for i in range(len(error))]\n",
        "    fig,axes = plt.subplots(figsize=(10,5),num='Training Error Plot')\n",
        "    axes.set_title('Figure 1 Training Error vs Epoch')\n",
        "    axes.set_xlabel('Epoch')\n",
        "    axes.set_ylabel('Training Error Perfcentage (%)')\n",
        "    axes.plot(E,error)\n",
        "    plt.show()"
      ],
      "metadata": {
        "id": "oI0YpBuP4uOB"
      },
      "execution_count": 10,
      "outputs": []
    },
    {
      "cell_type": "code",
      "source": [
        "#Function to plot decision boundary\n",
        "def plotDecisionBoundary(weights,X,Y):\n",
        "    full = pd.concat([X,Y],axis=1)\n",
        "    full_neg = full[full['Y']==-1]\n",
        "    full_pos = full[full['Y']==1]\n",
        "    #Points for plotting\n",
        "    x = np.random.randint(-50,50,200)\n",
        "    \n",
        "    fig,axes = plt.subplots(figsize=(10,10),num='Decision Boundary')\n",
        "    \n",
        "    axes.set_title('Figure 2 Decision Boundary')\n",
        "    axes.set_xlabel('X1')\n",
        "    axes.set_ylabel('X2')\n",
        "    #Plot the two classes\n",
        "    axes.scatter(full_neg['X1'],full_neg['X2'],label = 'Y=-1')\n",
        "    axes.scatter(full_pos['X1'],full_pos['X2'],label = 'Y=1')\n",
        "    max_epochs = len(weights)\n",
        "    current_epoch = 0\n",
        "    \n",
        "    for wt in weights:\n",
        "        wt = wt.tolist()\n",
        "        current_epoch = current_epoch + 1\n",
        "        if current_epoch == 5 or current_epoch == 10 or current_epoch == 50 or current_epoch == 100 or current_epoch == max_epochs:\n",
        "            #Get slope and y-intercept\n",
        "            m = -(wt[2] / wt[1]) / (wt[2] / wt[0])\n",
        "            c = -wt[2] / wt[1]\n",
        "            #Form equation of a straight line\n",
        "            y = m*x + c\n",
        "            if current_epoch!= max_epochs:\n",
        "                axes.plot(x,y,label = 'Epoch '+str(current_epoch))\n",
        "            else:\n",
        "                axes.plot(x,y,label = 'Epoch 100')\n",
        "    axes.legend()\n",
        "    plt.show()\n"
      ],
      "metadata": {
        "id": "643O0I9N480J"
      },
      "execution_count": 11,
      "outputs": []
    },
    {
      "cell_type": "code",
      "source": [
        "#Function to display Training Error per Learning Rate\n",
        "def plotErrorLearningRate(errors, etas):\n",
        "    E = [i+1 for i in range(len(errors[0]))]\n",
        "    fig,axes = plt.subplots(figsize=(10,5),num='Training Error Plot')\n",
        "    \n",
        "    axes.set_title('Figure 3 Training Error for Different Learning Rates')\n",
        "    axes.set_xlabel('Epoch')\n",
        "    axes.set_ylabel('Training Error Perfcentage (%)')\n",
        "\n",
        "    for error, eta in zip(errors, etas):\n",
        "      axes.plot(E,error,label=f'Learning rate = {eta}')\n",
        "    \n",
        "    axes.legend()\n",
        "    plt.show()\n"
      ],
      "metadata": {
        "id": "831czZX75B2a"
      },
      "execution_count": 12,
      "outputs": []
    },
    {
      "cell_type": "markdown",
      "source": [
        "#### Batch Delta Train"
      ],
      "metadata": {
        "id": "zt0O4CCuIAdk"
      }
    },
    {
      "cell_type": "code",
      "source": [
        "#Function to run Stochastic Delta train simulation\n",
        "def batchDeltaTrain(X_train,Y_train,epoch,eta,initialWeights):\n",
        "    weightUpdateCountBatch = 0\n",
        "    #Wrong predictions\n",
        "    trainFrac = 0\n",
        "    #Save training error for epochs\n",
        "    trainError = []\n",
        "    #Weights to return\n",
        "    weights = []\n",
        "    print(f'\\n\\nEpochs:{epoch} and Learning Rate:{eta}')\n",
        "    #Number of features\n",
        "    n = len(X_train[0])\n",
        "    print(f'Total Training Features (including bias):{n}')\n",
        "    #Initialize weights\n",
        "    w = initialWeights\n",
        "    #Total Training data points\n",
        "    m = len(X_train)\n",
        "    #Total Testing data points\n",
        "    print(f'Total Training Points:{m}')\n",
        "    print(f'Initial Weights:{w}')\n",
        "    for i in range(epoch):\n",
        "        #Correctly classified\n",
        "        correctPredictions = 0\n",
        "        #Append weights\n",
        "        weights.append(w)\n",
        "        trainFrac = 0\n",
        "        print(f'*** Running batch perceptron train simulation for epoch {i+1} ***')\n",
        "        st = 0\n",
        "        loss = 0\n",
        "        yt = []\n",
        "        st = np.dot(X_train, w)\n",
        "        for s in st:\n",
        "            if s > 0:\n",
        "                yt.append(1)\n",
        "            else:\n",
        "                yt.append(-1)\n",
        "        yt = np.array(yt).reshape(200,1)\n",
        "        #Check loss/error\n",
        "        loss = Y_train - yt\n",
        "        for loss_indiv in loss:\n",
        "            if loss_indiv == 0:\n",
        "                correctPredictions = correctPredictions + 1\n",
        "            else:\n",
        "                trainFrac = trainFrac + 1\n",
        "        dt = eta * np.dot(X_train.T,loss).T[0]\n",
        "        weightUpdateCountBatch = weightUpdateCountBatch + 1\n",
        "        #Update weight\n",
        "        w = w + dt\n",
        "        trainError.append((trainFrac/m)*100)\n",
        "        print(f'Train Error Percentage:{trainError[-1]} %')\n",
        "        #Exit on perfect classficiation for all training points\n",
        "        #if correctPredictions == m:\n",
        "        #   print('Stop Training - Perfect Predictions')\n",
        "        #    return (weights,trainError)\n",
        "    print('Stop Training - End of Epochs')\n",
        "    #print(weights)\n",
        "    return (weights,trainError,weightUpdateCountBatch)"
      ],
      "metadata": {
        "id": "dimmzZW24jc_"
      },
      "execution_count": 13,
      "outputs": []
    },
    {
      "cell_type": "markdown",
      "source": [
        "#### Stochastic Delta Train"
      ],
      "metadata": {
        "id": "utdkISnPHp5u"
      }
    },
    {
      "cell_type": "code",
      "source": [
        "#Function to run Stochastic Delta train simulation\n",
        "def stochasticDeltaTrain(X_train,Y_train,epoch,eta,initialWeights):\n",
        "    #Weight Updates\n",
        "    weightUpdateCountStoc = 0\n",
        "    #Wrong predictions\n",
        "    trainFrac = 0\n",
        "    #Save training error for epochs\n",
        "    trainError = []\n",
        "    #Save testing error for epochs\n",
        "    #Weights to return\n",
        "    weights = []\n",
        "    print(f'\\n\\nEpochs:{epoch} and Learning Rate:{eta}')\n",
        "    #Number of features\n",
        "    n = len(X_train[0])\n",
        "    print(f'Total Training Features (including bias):{n}')\n",
        "    #Initialize weights\n",
        "    w = initialWeights\n",
        "    #Total Training data points\n",
        "    m = len(X_train)\n",
        "    #Total Testing data points\n",
        "    print(f'Total Training Points:{m}')\n",
        "    for i in range(epoch):\n",
        "        #Correctly classified\n",
        "        correctPredictions = 0\n",
        "        #Append weights\n",
        "        weights.append(w)\n",
        "        trainFrac = 0\n",
        "        #Predict on Test Set using current weights\n",
        "        print(f'*** Running stochastic perceptron train simulation for epoch {i+1} ***')\n",
        "        for pt in range(m):\n",
        "            st = 0\n",
        "            loss = 0\n",
        "            yt = 0\n",
        "            for j in range(n):\n",
        "                st = st + w[j]*X_train[pt][j]\n",
        "            if st > 0:\n",
        "                yt = 1\n",
        "            else:\n",
        "                yt = -1\n",
        "            #Check loss/error\n",
        "            loss = Y_train[pt] - yt\n",
        "            if loss == 0:\n",
        "                correctPredictions = correctPredictions + 1\n",
        "            else:\n",
        "                trainFrac = trainFrac + 1\n",
        "            weightUpdateCountStoc = weightUpdateCountStoc + 1\n",
        "            #Update weight\n",
        "            w = w + eta*loss*X_train[pt]\n",
        "        trainError.append((trainFrac/m)*100)\n",
        "        #print(f'Correct Train Predictions:{correctPredictions}')\n",
        "        print(f'Train Error Percentage:{trainError[-1]} %')\n",
        "        #Exit on perfect classficiation for all training points\n",
        "        #if correctPredictions == m:\n",
        "         #   print('Stop Training - Perfect Predictions')\n",
        "          #  return (weights,trainError)\n",
        "    print('Stop Training - End of Epochs')\n",
        "    return (weights,trainError,weightUpdateCountStoc)"
      ],
      "metadata": {
        "id": "AHOn6uz55TgS"
      },
      "execution_count": 14,
      "outputs": []
    },
    {
      "cell_type": "markdown",
      "source": [
        "### Simulations"
      ],
      "metadata": {
        "id": "AXgiylKhHwfw"
      }
    },
    {
      "cell_type": "markdown",
      "source": [
        "#### Defining Parameters and Initializing Weights"
      ],
      "metadata": {
        "id": "XBhHAwYA-qkh"
      }
    },
    {
      "cell_type": "code",
      "source": [
        "#Number of simulations\n",
        "epoch = 25 \n",
        "#Learning rate\n",
        "eta = 0.0001\n",
        "#Initialize weights\n",
        "initialWeights = np.random.uniform(0, 0.5, len(X.columns))"
      ],
      "metadata": {
        "id": "MGZr2N9n-pTx"
      },
      "execution_count": 15,
      "outputs": []
    },
    {
      "cell_type": "markdown",
      "source": [
        "#### Batch Delta Train for 25 Epochs\n",
        "\n",
        "Number of simulations (epochs) = 25 \n",
        "\n",
        "Learning rate (eta) = 0.0001"
      ],
      "metadata": {
        "id": "FRk3JmClIXry"
      }
    },
    {
      "cell_type": "code",
      "source": [
        "#Run delta train simulations\n",
        "(simulWeights,trainErrorFraction,weightUpdateCountBatch25) = batchDeltaTrain(X_mat,Y_mat,epoch,eta,initialWeights)"
      ],
      "metadata": {
        "colab": {
          "base_uri": "https://localhost:8080/"
        },
        "id": "IFbrmcRb4n-E",
        "outputId": "69edd669-6a98-4a97-e7d2-716cc2dad399"
      },
      "execution_count": 16,
      "outputs": [
        {
          "output_type": "stream",
          "name": "stdout",
          "text": [
            "\n",
            "\n",
            "Epochs:25 and Learning Rate:0.0001\n",
            "Total Training Features (including bias):3\n",
            "Total Training Points:200\n",
            "Initial Weights:[0.23012826 0.30256145 0.02072239]\n",
            "*** Running batch perceptron train simulation for epoch 1 ***\n",
            "Train Error Percentage:11.0 %\n",
            "*** Running batch perceptron train simulation for epoch 2 ***\n",
            "Train Error Percentage:0.5 %\n",
            "*** Running batch perceptron train simulation for epoch 3 ***\n",
            "Train Error Percentage:0.5 %\n",
            "*** Running batch perceptron train simulation for epoch 4 ***\n",
            "Train Error Percentage:0.5 %\n",
            "*** Running batch perceptron train simulation for epoch 5 ***\n",
            "Train Error Percentage:0.5 %\n",
            "*** Running batch perceptron train simulation for epoch 6 ***\n",
            "Train Error Percentage:1.0 %\n",
            "*** Running batch perceptron train simulation for epoch 7 ***\n",
            "Train Error Percentage:0.5 %\n",
            "*** Running batch perceptron train simulation for epoch 8 ***\n",
            "Train Error Percentage:0.5 %\n",
            "*** Running batch perceptron train simulation for epoch 9 ***\n",
            "Train Error Percentage:0.5 %\n",
            "*** Running batch perceptron train simulation for epoch 10 ***\n",
            "Train Error Percentage:0.5 %\n",
            "*** Running batch perceptron train simulation for epoch 11 ***\n",
            "Train Error Percentage:0.5 %\n",
            "*** Running batch perceptron train simulation for epoch 12 ***\n",
            "Train Error Percentage:0.5 %\n",
            "*** Running batch perceptron train simulation for epoch 13 ***\n",
            "Train Error Percentage:0.5 %\n",
            "*** Running batch perceptron train simulation for epoch 14 ***\n",
            "Train Error Percentage:1.0 %\n",
            "*** Running batch perceptron train simulation for epoch 15 ***\n",
            "Train Error Percentage:0.5 %\n",
            "*** Running batch perceptron train simulation for epoch 16 ***\n",
            "Train Error Percentage:0.5 %\n",
            "*** Running batch perceptron train simulation for epoch 17 ***\n",
            "Train Error Percentage:0.5 %\n",
            "*** Running batch perceptron train simulation for epoch 18 ***\n",
            "Train Error Percentage:0.5 %\n",
            "*** Running batch perceptron train simulation for epoch 19 ***\n",
            "Train Error Percentage:0.5 %\n",
            "*** Running batch perceptron train simulation for epoch 20 ***\n",
            "Train Error Percentage:0.5 %\n",
            "*** Running batch perceptron train simulation for epoch 21 ***\n",
            "Train Error Percentage:1.0 %\n",
            "*** Running batch perceptron train simulation for epoch 22 ***\n",
            "Train Error Percentage:0.5 %\n",
            "*** Running batch perceptron train simulation for epoch 23 ***\n",
            "Train Error Percentage:0.5 %\n",
            "*** Running batch perceptron train simulation for epoch 24 ***\n",
            "Train Error Percentage:0.5 %\n",
            "*** Running batch perceptron train simulation for epoch 25 ***\n",
            "Train Error Percentage:0.5 %\n",
            "Stop Training - End of Epochs\n"
          ]
        }
      ]
    },
    {
      "cell_type": "markdown",
      "source": [
        "##### Error - Plot"
      ],
      "metadata": {
        "id": "P14_m259JTUB"
      }
    },
    {
      "cell_type": "code",
      "source": [
        "#Display Training Error\n",
        "plotError(trainErrorFraction)"
      ],
      "metadata": {
        "colab": {
          "base_uri": "https://localhost:8080/",
          "height": 350
        },
        "id": "AxACeMmE45KD",
        "outputId": "0fffa64c-7b20-4172-86df-dd2b032ba854"
      },
      "execution_count": 17,
      "outputs": [
        {
          "output_type": "display_data",
          "data": {
            "image/png": "[encoded data removed]",
            "text/plain": [
              "<Figure size 720x360 with 1 Axes>"
            ]
          },
          "metadata": {
            "needs_background": "light"
          }
        }
      ]
    },
    {
      "cell_type": "markdown",
      "source": [
        "#### Batch Delta Train for 100 Epochs\n",
        "\n",
        "Number of simulations (epochs) = 100\n",
        "\n",
        "Learning rate (eta) = 0.0001"
      ],
      "metadata": {
        "id": "92oGsyb2I0Kk"
      }
    },
    {
      "cell_type": "code",
      "source": [
        "(newWeights,newTrainErrorFraction,weightUpdateCountBatch100) = batchDeltaTrain(X_mat,Y_mat,100,eta,initialWeights)"
      ],
      "metadata": {
        "colab": {
          "base_uri": "https://localhost:8080/"
        },
        "id": "5DTN6EtA46ph",
        "outputId": "c982bf3b-55d0-45e4-9dee-d9fa7fb35436"
      },
      "execution_count": 18,
      "outputs": [
        {
          "output_type": "stream",
          "name": "stdout",
          "text": [
            "\n",
            "\n",
            "Epochs:100 and Learning Rate:0.0001\n",
            "Total Training Features (including bias):3\n",
            "Total Training Points:200\n",
            "Initial Weights:[0.23012826 0.30256145 0.02072239]\n",
            "*** Running batch perceptron train simulation for epoch 1 ***\n",
            "Train Error Percentage:11.0 %\n",
            "*** Running batch perceptron train simulation for epoch 2 ***\n",
            "Train Error Percentage:0.5 %\n",
            "*** Running batch perceptron train simulation for epoch 3 ***\n",
            "Train Error Percentage:0.5 %\n",
            "*** Running batch perceptron train simulation for epoch 4 ***\n",
            "Train Error Percentage:0.5 %\n",
            "*** Running batch perceptron train simulation for epoch 5 ***\n",
            "Train Error Percentage:0.5 %\n",
            "*** Running batch perceptron train simulation for epoch 6 ***\n",
            "Train Error Percentage:1.0 %\n",
            "*** Running batch perceptron train simulation for epoch 7 ***\n",
            "Train Error Percentage:0.5 %\n",
            "*** Running batch perceptron train simulation for epoch 8 ***\n",
            "Train Error Percentage:0.5 %\n",
            "*** Running batch perceptron train simulation for epoch 9 ***\n",
            "Train Error Percentage:0.5 %\n",
            "*** Running batch perceptron train simulation for epoch 10 ***\n",
            "Train Error Percentage:0.5 %\n",
            "*** Running batch perceptron train simulation for epoch 11 ***\n",
            "Train Error Percentage:0.5 %\n",
            "*** Running batch perceptron train simulation for epoch 12 ***\n",
            "Train Error Percentage:0.5 %\n",
            "*** Running batch perceptron train simulation for epoch 13 ***\n",
            "Train Error Percentage:0.5 %\n",
            "*** Running batch perceptron train simulation for epoch 14 ***\n",
            "Train Error Percentage:1.0 %\n",
            "*** Running batch perceptron train simulation for epoch 15 ***\n",
            "Train Error Percentage:0.5 %\n",
            "*** Running batch perceptron train simulation for epoch 16 ***\n",
            "Train Error Percentage:0.5 %\n",
            "*** Running batch perceptron train simulation for epoch 17 ***\n",
            "Train Error Percentage:0.5 %\n",
            "*** Running batch perceptron train simulation for epoch 18 ***\n",
            "Train Error Percentage:0.5 %\n",
            "*** Running batch perceptron train simulation for epoch 19 ***\n",
            "Train Error Percentage:0.5 %\n",
            "*** Running batch perceptron train simulation for epoch 20 ***\n",
            "Train Error Percentage:0.5 %\n",
            "*** Running batch perceptron train simulation for epoch 21 ***\n",
            "Train Error Percentage:1.0 %\n",
            "*** Running batch perceptron train simulation for epoch 22 ***\n",
            "Train Error Percentage:0.5 %\n",
            "*** Running batch perceptron train simulation for epoch 23 ***\n",
            "Train Error Percentage:0.5 %\n",
            "*** Running batch perceptron train simulation for epoch 24 ***\n",
            "Train Error Percentage:0.5 %\n",
            "*** Running batch perceptron train simulation for epoch 25 ***\n",
            "Train Error Percentage:0.5 %\n",
            "*** Running batch perceptron train simulation for epoch 26 ***\n",
            "Train Error Percentage:0.5 %\n",
            "*** Running batch perceptron train simulation for epoch 27 ***\n",
            "Train Error Percentage:0.5 %\n",
            "*** Running batch perceptron train simulation for epoch 28 ***\n",
            "Train Error Percentage:1.0 %\n",
            "*** Running batch perceptron train simulation for epoch 29 ***\n",
            "Train Error Percentage:0.5 %\n",
            "*** Running batch perceptron train simulation for epoch 30 ***\n",
            "Train Error Percentage:0.5 %\n",
            "*** Running batch perceptron train simulation for epoch 31 ***\n",
            "Train Error Percentage:0.5 %\n",
            "*** Running batch perceptron train simulation for epoch 32 ***\n",
            "Train Error Percentage:0.5 %\n",
            "*** Running batch perceptron train simulation for epoch 33 ***\n",
            "Train Error Percentage:0.5 %\n",
            "*** Running batch perceptron train simulation for epoch 34 ***\n",
            "Train Error Percentage:0.5 %\n",
            "*** Running batch perceptron train simulation for epoch 35 ***\n",
            "Train Error Percentage:0.5 %\n",
            "*** Running batch perceptron train simulation for epoch 36 ***\n",
            "Train Error Percentage:1.0 %\n",
            "*** Running batch perceptron train simulation for epoch 37 ***\n",
            "Train Error Percentage:0.5 %\n",
            "*** Running batch perceptron train simulation for epoch 38 ***\n",
            "Train Error Percentage:0.5 %\n",
            "*** Running batch perceptron train simulation for epoch 39 ***\n",
            "Train Error Percentage:0.5 %\n",
            "*** Running batch perceptron train simulation for epoch 40 ***\n",
            "Train Error Percentage:0.5 %\n",
            "*** Running batch perceptron train simulation for epoch 41 ***\n",
            "Train Error Percentage:0.5 %\n",
            "*** Running batch perceptron train simulation for epoch 42 ***\n",
            "Train Error Percentage:0.5 %\n",
            "*** Running batch perceptron train simulation for epoch 43 ***\n",
            "Train Error Percentage:1.0 %\n",
            "*** Running batch perceptron train simulation for epoch 44 ***\n",
            "Train Error Percentage:0.5 %\n",
            "*** Running batch perceptron train simulation for epoch 45 ***\n",
            "Train Error Percentage:0.5 %\n",
            "*** Running batch perceptron train simulation for epoch 46 ***\n",
            "Train Error Percentage:0.5 %\n",
            "*** Running batch perceptron train simulation for epoch 47 ***\n",
            "Train Error Percentage:0.5 %\n",
            "*** Running batch perceptron train simulation for epoch 48 ***\n",
            "Train Error Percentage:0.5 %\n",
            "*** Running batch perceptron train simulation for epoch 49 ***\n",
            "Train Error Percentage:0.5 %\n",
            "*** Running batch perceptron train simulation for epoch 50 ***\n",
            "Train Error Percentage:0.5 %\n",
            "*** Running batch perceptron train simulation for epoch 51 ***\n",
            "Train Error Percentage:1.0 %\n",
            "*** Running batch perceptron train simulation for epoch 52 ***\n",
            "Train Error Percentage:0.5 %\n",
            "*** Running batch perceptron train simulation for epoch 53 ***\n",
            "Train Error Percentage:0.5 %\n",
            "*** Running batch perceptron train simulation for epoch 54 ***\n",
            "Train Error Percentage:0.5 %\n",
            "*** Running batch perceptron train simulation for epoch 55 ***\n",
            "Train Error Percentage:0.5 %\n",
            "*** Running batch perceptron train simulation for epoch 56 ***\n",
            "Train Error Percentage:0.5 %\n",
            "*** Running batch perceptron train simulation for epoch 57 ***\n",
            "Train Error Percentage:0.5 %\n",
            "*** Running batch perceptron train simulation for epoch 58 ***\n",
            "Train Error Percentage:1.0 %\n",
            "*** Running batch perceptron train simulation for epoch 59 ***\n",
            "Train Error Percentage:0.5 %\n",
            "*** Running batch perceptron train simulation for epoch 60 ***\n",
            "Train Error Percentage:0.5 %\n",
            "*** Running batch perceptron train simulation for epoch 61 ***\n",
            "Train Error Percentage:0.5 %\n",
            "*** Running batch perceptron train simulation for epoch 62 ***\n",
            "Train Error Percentage:0.5 %\n",
            "*** Running batch perceptron train simulation for epoch 63 ***\n",
            "Train Error Percentage:0.5 %\n",
            "*** Running batch perceptron train simulation for epoch 64 ***\n",
            "Train Error Percentage:0.5 %\n",
            "*** Running batch perceptron train simulation for epoch 65 ***\n",
            "Train Error Percentage:1.0 %\n",
            "*** Running batch perceptron train simulation for epoch 66 ***\n",
            "Train Error Percentage:0.5 %\n",
            "*** Running batch perceptron train simulation for epoch 67 ***\n",
            "Train Error Percentage:0.5 %\n",
            "*** Running batch perceptron train simulation for epoch 68 ***\n",
            "Train Error Percentage:0.5 %\n",
            "*** Running batch perceptron train simulation for epoch 69 ***\n",
            "Train Error Percentage:0.5 %\n",
            "*** Running batch perceptron train simulation for epoch 70 ***\n",
            "Train Error Percentage:0.5 %\n",
            "*** Running batch perceptron train simulation for epoch 71 ***\n",
            "Train Error Percentage:0.5 %\n",
            "*** Running batch perceptron train simulation for epoch 72 ***\n",
            "Train Error Percentage:0.5 %\n",
            "*** Running batch perceptron train simulation for epoch 73 ***\n",
            "Train Error Percentage:1.0 %\n",
            "*** Running batch perceptron train simulation for epoch 74 ***\n",
            "Train Error Percentage:0.5 %\n",
            "*** Running batch perceptron train simulation for epoch 75 ***\n",
            "Train Error Percentage:0.5 %\n",
            "*** Running batch perceptron train simulation for epoch 76 ***\n",
            "Train Error Percentage:0.5 %\n",
            "*** Running batch perceptron train simulation for epoch 77 ***\n",
            "Train Error Percentage:0.5 %\n",
            "*** Running batch perceptron train simulation for epoch 78 ***\n",
            "Train Error Percentage:0.5 %\n",
            "*** Running batch perceptron train simulation for epoch 79 ***\n",
            "Train Error Percentage:0.5 %\n",
            "*** Running batch perceptron train simulation for epoch 80 ***\n",
            "Train Error Percentage:1.0 %\n",
            "*** Running batch perceptron train simulation for epoch 81 ***\n",
            "Train Error Percentage:0.5 %\n",
            "*** Running batch perceptron train simulation for epoch 82 ***\n",
            "Train Error Percentage:0.5 %\n",
            "*** Running batch perceptron train simulation for epoch 83 ***\n",
            "Train Error Percentage:0.5 %\n",
            "*** Running batch perceptron train simulation for epoch 84 ***\n",
            "Train Error Percentage:0.5 %\n",
            "*** Running batch perceptron train simulation for epoch 85 ***\n",
            "Train Error Percentage:0.5 %\n",
            "*** Running batch perceptron train simulation for epoch 86 ***\n",
            "Train Error Percentage:0.5 %\n",
            "*** Running batch perceptron train simulation for epoch 87 ***\n",
            "Train Error Percentage:0.5 %\n",
            "*** Running batch perceptron train simulation for epoch 88 ***\n",
            "Train Error Percentage:1.0 %\n",
            "*** Running batch perceptron train simulation for epoch 89 ***\n",
            "Train Error Percentage:0.5 %\n",
            "*** Running batch perceptron train simulation for epoch 90 ***\n",
            "Train Error Percentage:0.5 %\n",
            "*** Running batch perceptron train simulation for epoch 91 ***\n",
            "Train Error Percentage:0.5 %\n",
            "*** Running batch perceptron train simulation for epoch 92 ***\n",
            "Train Error Percentage:0.5 %\n",
            "*** Running batch perceptron train simulation for epoch 93 ***\n",
            "Train Error Percentage:0.5 %\n",
            "*** Running batch perceptron train simulation for epoch 94 ***\n",
            "Train Error Percentage:0.5 %\n",
            "*** Running batch perceptron train simulation for epoch 95 ***\n",
            "Train Error Percentage:1.0 %\n",
            "*** Running batch perceptron train simulation for epoch 96 ***\n",
            "Train Error Percentage:0.5 %\n",
            "*** Running batch perceptron train simulation for epoch 97 ***\n",
            "Train Error Percentage:0.5 %\n",
            "*** Running batch perceptron train simulation for epoch 98 ***\n",
            "Train Error Percentage:0.5 %\n",
            "*** Running batch perceptron train simulation for epoch 99 ***\n",
            "Train Error Percentage:0.5 %\n",
            "*** Running batch perceptron train simulation for epoch 100 ***\n",
            "Train Error Percentage:0.5 %\n",
            "Stop Training - End of Epochs\n"
          ]
        }
      ]
    },
    {
      "cell_type": "markdown",
      "source": [
        "##### Plotting Decision Boundary"
      ],
      "metadata": {
        "id": "5KwPbwUkJZnT"
      }
    },
    {
      "cell_type": "code",
      "source": [
        "#Display decision boundary\n",
        "plotDecisionBoundary(newWeights,X,Y)"
      ],
      "metadata": {
        "colab": {
          "base_uri": "https://localhost:8080/",
          "height": 621
        },
        "id": "U-tub_7F4-4w",
        "outputId": "b2de7f61-7704-4bb6-92f0-0d0e920da1a1"
      },
      "execution_count": 19,
      "outputs": [
        {
          "output_type": "display_data",
          "data": {
            "image/png": "[encoded data removed]",
            "text/plain": [
              "<Figure size 720x720 with 1 Axes>"
            ]
          },
          "metadata": {
            "needs_background": "light"
          }
        }
      ]
    },
    {
      "cell_type": "markdown",
      "source": [
        "#### Batch Delta Train for 50 Epochs\n",
        "\n",
        "Number of simulations (epochs) = 50"
      ],
      "metadata": {
        "id": "KNKWRKgyJf4G"
      }
    },
    {
      "cell_type": "code",
      "source": [
        "epoch = 50"
      ],
      "metadata": {
        "id": "ZZONwERxAWa1"
      },
      "execution_count": 20,
      "outputs": []
    },
    {
      "cell_type": "markdown",
      "source": [
        "##### For Different Learning Rates: [0.1, 0.01, 0.001, 0.0001]"
      ],
      "metadata": {
        "id": "47lpNbH2JqZO"
      }
    },
    {
      "cell_type": "code",
      "source": [
        "results = {'Eta-Weights':[], 'Eta-Error':[], 'WeightUpdateCount':[]}\n",
        "etas = [0.1, 0.01, 0.001, 0.0001]\n",
        "for eta in etas:\n",
        "  (etaWeights,etaError,weightUpdateCountBatch) = batchDeltaTrain(X_mat,Y_mat,epoch,eta,initialWeights)\n",
        "  results['Eta-Weights'].append(etaWeights)\n",
        "  results['Eta-Error'].append(etaError)\n",
        "  results['WeightUpdateCount'].append(weightUpdateCountBatch)"
      ],
      "metadata": {
        "colab": {
          "base_uri": "https://localhost:8080/"
        },
        "id": "kTYnU71_5FIP",
        "outputId": "eab899b4-f1d9-4870-a71c-102a7cd63b1f"
      },
      "execution_count": 21,
      "outputs": [
        {
          "output_type": "stream",
          "name": "stdout",
          "text": [
            "\n",
            "\n",
            "Epochs:50 and Learning Rate:0.1\n",
            "Total Training Features (including bias):3\n",
            "Total Training Points:200\n",
            "Initial Weights:[0.23012826 0.30256145 0.02072239]\n",
            "*** Running batch perceptron train simulation for epoch 1 ***\n",
            "Train Error Percentage:11.0 %\n",
            "*** Running batch perceptron train simulation for epoch 2 ***\n",
            "Train Error Percentage:42.0 %\n",
            "*** Running batch perceptron train simulation for epoch 3 ***\n",
            "Train Error Percentage:17.0 %\n",
            "*** Running batch perceptron train simulation for epoch 4 ***\n",
            "Train Error Percentage:1.0 %\n",
            "*** Running batch perceptron train simulation for epoch 5 ***\n",
            "Train Error Percentage:1.0 %\n",
            "*** Running batch perceptron train simulation for epoch 6 ***\n",
            "Train Error Percentage:0.5 %\n",
            "*** Running batch perceptron train simulation for epoch 7 ***\n",
            "Train Error Percentage:0.5 %\n",
            "*** Running batch perceptron train simulation for epoch 8 ***\n",
            "Train Error Percentage:0.5 %\n",
            "*** Running batch perceptron train simulation for epoch 9 ***\n",
            "Train Error Percentage:0.5 %\n",
            "*** Running batch perceptron train simulation for epoch 10 ***\n",
            "Train Error Percentage:0.5 %\n",
            "*** Running batch perceptron train simulation for epoch 11 ***\n",
            "Train Error Percentage:0.5 %\n",
            "*** Running batch perceptron train simulation for epoch 12 ***\n",
            "Train Error Percentage:1.0 %\n",
            "*** Running batch perceptron train simulation for epoch 13 ***\n",
            "Train Error Percentage:0.5 %\n",
            "*** Running batch perceptron train simulation for epoch 14 ***\n",
            "Train Error Percentage:0.5 %\n",
            "*** Running batch perceptron train simulation for epoch 15 ***\n",
            "Train Error Percentage:0.5 %\n",
            "*** Running batch perceptron train simulation for epoch 16 ***\n",
            "Train Error Percentage:0.5 %\n",
            "*** Running batch perceptron train simulation for epoch 17 ***\n",
            "Train Error Percentage:0.5 %\n",
            "*** Running batch perceptron train simulation for epoch 18 ***\n",
            "Train Error Percentage:0.5 %\n",
            "*** Running batch perceptron train simulation for epoch 19 ***\n",
            "Train Error Percentage:0.5 %\n",
            "*** Running batch perceptron train simulation for epoch 20 ***\n",
            "Train Error Percentage:1.0 %\n",
            "*** Running batch perceptron train simulation for epoch 21 ***\n",
            "Train Error Percentage:0.5 %\n",
            "*** Running batch perceptron train simulation for epoch 22 ***\n",
            "Train Error Percentage:0.5 %\n",
            "*** Running batch perceptron train simulation for epoch 23 ***\n",
            "Train Error Percentage:0.5 %\n",
            "*** Running batch perceptron train simulation for epoch 24 ***\n",
            "Train Error Percentage:0.5 %\n",
            "*** Running batch perceptron train simulation for epoch 25 ***\n",
            "Train Error Percentage:0.5 %\n",
            "*** Running batch perceptron train simulation for epoch 26 ***\n",
            "Train Error Percentage:0.5 %\n",
            "*** Running batch perceptron train simulation for epoch 27 ***\n",
            "Train Error Percentage:1.0 %\n",
            "*** Running batch perceptron train simulation for epoch 28 ***\n",
            "Train Error Percentage:0.5 %\n",
            "*** Running batch perceptron train simulation for epoch 29 ***\n",
            "Train Error Percentage:0.5 %\n",
            "*** Running batch perceptron train simulation for epoch 30 ***\n",
            "Train Error Percentage:0.5 %\n",
            "*** Running batch perceptron train simulation for epoch 31 ***\n",
            "Train Error Percentage:0.5 %\n",
            "*** Running batch perceptron train simulation for epoch 32 ***\n",
            "Train Error Percentage:0.5 %\n",
            "*** Running batch perceptron train simulation for epoch 33 ***\n",
            "Train Error Percentage:0.5 %\n",
            "*** Running batch perceptron train simulation for epoch 34 ***\n",
            "Train Error Percentage:1.0 %\n",
            "*** Running batch perceptron train simulation for epoch 35 ***\n",
            "Train Error Percentage:0.5 %\n",
            "*** Running batch perceptron train simulation for epoch 36 ***\n",
            "Train Error Percentage:0.5 %\n",
            "*** Running batch perceptron train simulation for epoch 37 ***\n",
            "Train Error Percentage:0.5 %\n",
            "*** Running batch perceptron train simulation for epoch 38 ***\n",
            "Train Error Percentage:0.5 %\n",
            "*** Running batch perceptron train simulation for epoch 39 ***\n",
            "Train Error Percentage:0.5 %\n",
            "*** Running batch perceptron train simulation for epoch 40 ***\n",
            "Train Error Percentage:0.5 %\n",
            "*** Running batch perceptron train simulation for epoch 41 ***\n",
            "Train Error Percentage:0.5 %\n",
            "*** Running batch perceptron train simulation for epoch 42 ***\n",
            "Train Error Percentage:1.0 %\n",
            "*** Running batch perceptron train simulation for epoch 43 ***\n",
            "Train Error Percentage:0.5 %\n",
            "*** Running batch perceptron train simulation for epoch 44 ***\n",
            "Train Error Percentage:0.5 %\n",
            "*** Running batch perceptron train simulation for epoch 45 ***\n",
            "Train Error Percentage:0.5 %\n",
            "*** Running batch perceptron train simulation for epoch 46 ***\n",
            "Train Error Percentage:0.5 %\n",
            "*** Running batch perceptron train simulation for epoch 47 ***\n",
            "Train Error Percentage:0.5 %\n",
            "*** Running batch perceptron train simulation for epoch 48 ***\n",
            "Train Error Percentage:0.5 %\n",
            "*** Running batch perceptron train simulation for epoch 49 ***\n",
            "Train Error Percentage:1.0 %\n",
            "*** Running batch perceptron train simulation for epoch 50 ***\n",
            "Train Error Percentage:0.5 %\n",
            "Stop Training - End of Epochs\n",
            "\n",
            "\n",
            "Epochs:50 and Learning Rate:0.01\n",
            "Total Training Features (including bias):3\n",
            "Total Training Points:200\n",
            "Initial Weights:[0.23012826 0.30256145 0.02072239]\n",
            "*** Running batch perceptron train simulation for epoch 1 ***\n",
            "Train Error Percentage:11.0 %\n",
            "*** Running batch perceptron train simulation for epoch 2 ***\n",
            "Train Error Percentage:41.5 %\n",
            "*** Running batch perceptron train simulation for epoch 3 ***\n",
            "Train Error Percentage:17.0 %\n",
            "*** Running batch perceptron train simulation for epoch 4 ***\n",
            "Train Error Percentage:1.0 %\n",
            "*** Running batch perceptron train simulation for epoch 5 ***\n",
            "Train Error Percentage:1.0 %\n",
            "*** Running batch perceptron train simulation for epoch 6 ***\n",
            "Train Error Percentage:0.5 %\n",
            "*** Running batch perceptron train simulation for epoch 7 ***\n",
            "Train Error Percentage:0.5 %\n",
            "*** Running batch perceptron train simulation for epoch 8 ***\n",
            "Train Error Percentage:0.5 %\n",
            "*** Running batch perceptron train simulation for epoch 9 ***\n",
            "Train Error Percentage:0.5 %\n",
            "*** Running batch perceptron train simulation for epoch 10 ***\n",
            "Train Error Percentage:0.5 %\n",
            "*** Running batch perceptron train simulation for epoch 11 ***\n",
            "Train Error Percentage:1.0 %\n",
            "*** Running batch perceptron train simulation for epoch 12 ***\n",
            "Train Error Percentage:0.5 %\n",
            "*** Running batch perceptron train simulation for epoch 13 ***\n",
            "Train Error Percentage:0.5 %\n",
            "*** Running batch perceptron train simulation for epoch 14 ***\n",
            "Train Error Percentage:0.5 %\n",
            "*** Running batch perceptron train simulation for epoch 15 ***\n",
            "Train Error Percentage:0.5 %\n",
            "*** Running batch perceptron train simulation for epoch 16 ***\n",
            "Train Error Percentage:0.5 %\n",
            "*** Running batch perceptron train simulation for epoch 17 ***\n",
            "Train Error Percentage:0.5 %\n",
            "*** Running batch perceptron train simulation for epoch 18 ***\n",
            "Train Error Percentage:1.0 %\n",
            "*** Running batch perceptron train simulation for epoch 19 ***\n",
            "Train Error Percentage:0.5 %\n",
            "*** Running batch perceptron train simulation for epoch 20 ***\n",
            "Train Error Percentage:0.5 %\n",
            "*** Running batch perceptron train simulation for epoch 21 ***\n",
            "Train Error Percentage:0.5 %\n",
            "*** Running batch perceptron train simulation for epoch 22 ***\n",
            "Train Error Percentage:0.5 %\n",
            "*** Running batch perceptron train simulation for epoch 23 ***\n",
            "Train Error Percentage:0.5 %\n",
            "*** Running batch perceptron train simulation for epoch 24 ***\n",
            "Train Error Percentage:0.5 %\n",
            "*** Running batch perceptron train simulation for epoch 25 ***\n",
            "Train Error Percentage:0.5 %\n",
            "*** Running batch perceptron train simulation for epoch 26 ***\n",
            "Train Error Percentage:1.0 %\n",
            "*** Running batch perceptron train simulation for epoch 27 ***\n",
            "Train Error Percentage:0.5 %\n",
            "*** Running batch perceptron train simulation for epoch 28 ***\n",
            "Train Error Percentage:0.5 %\n",
            "*** Running batch perceptron train simulation for epoch 29 ***\n",
            "Train Error Percentage:0.5 %\n",
            "*** Running batch perceptron train simulation for epoch 30 ***\n",
            "Train Error Percentage:0.5 %\n",
            "*** Running batch perceptron train simulation for epoch 31 ***\n",
            "Train Error Percentage:0.5 %\n",
            "*** Running batch perceptron train simulation for epoch 32 ***\n",
            "Train Error Percentage:0.5 %\n",
            "*** Running batch perceptron train simulation for epoch 33 ***\n",
            "Train Error Percentage:1.0 %\n",
            "*** Running batch perceptron train simulation for epoch 34 ***\n",
            "Train Error Percentage:0.5 %\n",
            "*** Running batch perceptron train simulation for epoch 35 ***\n",
            "Train Error Percentage:0.5 %\n",
            "*** Running batch perceptron train simulation for epoch 36 ***\n",
            "Train Error Percentage:0.5 %\n",
            "*** Running batch perceptron train simulation for epoch 37 ***\n",
            "Train Error Percentage:0.5 %\n",
            "*** Running batch perceptron train simulation for epoch 38 ***\n",
            "Train Error Percentage:0.5 %\n",
            "*** Running batch perceptron train simulation for epoch 39 ***\n",
            "Train Error Percentage:0.5 %\n",
            "*** Running batch perceptron train simulation for epoch 40 ***\n",
            "Train Error Percentage:0.5 %\n",
            "*** Running batch perceptron train simulation for epoch 41 ***\n",
            "Train Error Percentage:1.0 %\n",
            "*** Running batch perceptron train simulation for epoch 42 ***\n",
            "Train Error Percentage:0.5 %\n",
            "*** Running batch perceptron train simulation for epoch 43 ***\n",
            "Train Error Percentage:0.5 %\n",
            "*** Running batch perceptron train simulation for epoch 44 ***\n",
            "Train Error Percentage:0.5 %\n",
            "*** Running batch perceptron train simulation for epoch 45 ***\n",
            "Train Error Percentage:0.5 %\n",
            "*** Running batch perceptron train simulation for epoch 46 ***\n",
            "Train Error Percentage:0.5 %\n",
            "*** Running batch perceptron train simulation for epoch 47 ***\n",
            "Train Error Percentage:0.5 %\n",
            "*** Running batch perceptron train simulation for epoch 48 ***\n",
            "Train Error Percentage:1.0 %\n",
            "*** Running batch perceptron train simulation for epoch 49 ***\n",
            "Train Error Percentage:0.5 %\n",
            "*** Running batch perceptron train simulation for epoch 50 ***\n",
            "Train Error Percentage:0.5 %\n",
            "Stop Training - End of Epochs\n",
            "\n",
            "\n",
            "Epochs:50 and Learning Rate:0.001\n",
            "Total Training Features (including bias):3\n",
            "Total Training Points:200\n",
            "Initial Weights:[0.23012826 0.30256145 0.02072239]\n",
            "*** Running batch perceptron train simulation for epoch 1 ***\n",
            "Train Error Percentage:11.0 %\n",
            "*** Running batch perceptron train simulation for epoch 2 ***\n",
            "Train Error Percentage:30.5 %\n",
            "*** Running batch perceptron train simulation for epoch 3 ***\n",
            "Train Error Percentage:19.0 %\n",
            "*** Running batch perceptron train simulation for epoch 4 ***\n",
            "Train Error Percentage:4.5 %\n",
            "*** Running batch perceptron train simulation for epoch 5 ***\n",
            "Train Error Percentage:2.0 %\n",
            "*** Running batch perceptron train simulation for epoch 6 ***\n",
            "Train Error Percentage:1.0 %\n",
            "*** Running batch perceptron train simulation for epoch 7 ***\n",
            "Train Error Percentage:0.5 %\n",
            "*** Running batch perceptron train simulation for epoch 8 ***\n",
            "Train Error Percentage:0.5 %\n",
            "*** Running batch perceptron train simulation for epoch 9 ***\n",
            "Train Error Percentage:0.5 %\n",
            "*** Running batch perceptron train simulation for epoch 10 ***\n",
            "Train Error Percentage:0.5 %\n",
            "*** Running batch perceptron train simulation for epoch 11 ***\n",
            "Train Error Percentage:1.0 %\n",
            "*** Running batch perceptron train simulation for epoch 12 ***\n",
            "Train Error Percentage:0.5 %\n",
            "*** Running batch perceptron train simulation for epoch 13 ***\n",
            "Train Error Percentage:0.5 %\n",
            "*** Running batch perceptron train simulation for epoch 14 ***\n",
            "Train Error Percentage:0.5 %\n",
            "*** Running batch perceptron train simulation for epoch 15 ***\n",
            "Train Error Percentage:0.5 %\n",
            "*** Running batch perceptron train simulation for epoch 16 ***\n",
            "Train Error Percentage:0.5 %\n",
            "*** Running batch perceptron train simulation for epoch 17 ***\n",
            "Train Error Percentage:0.5 %\n",
            "*** Running batch perceptron train simulation for epoch 18 ***\n",
            "Train Error Percentage:0.5 %\n",
            "*** Running batch perceptron train simulation for epoch 19 ***\n",
            "Train Error Percentage:1.0 %\n",
            "*** Running batch perceptron train simulation for epoch 20 ***\n",
            "Train Error Percentage:0.5 %\n",
            "*** Running batch perceptron train simulation for epoch 21 ***\n",
            "Train Error Percentage:0.5 %\n",
            "*** Running batch perceptron train simulation for epoch 22 ***\n",
            "Train Error Percentage:0.5 %\n",
            "*** Running batch perceptron train simulation for epoch 23 ***\n",
            "Train Error Percentage:0.5 %\n",
            "*** Running batch perceptron train simulation for epoch 24 ***\n",
            "Train Error Percentage:0.5 %\n",
            "*** Running batch perceptron train simulation for epoch 25 ***\n",
            "Train Error Percentage:0.5 %\n",
            "*** Running batch perceptron train simulation for epoch 26 ***\n",
            "Train Error Percentage:1.0 %\n",
            "*** Running batch perceptron train simulation for epoch 27 ***\n",
            "Train Error Percentage:0.5 %\n",
            "*** Running batch perceptron train simulation for epoch 28 ***\n",
            "Train Error Percentage:0.5 %\n",
            "*** Running batch perceptron train simulation for epoch 29 ***\n",
            "Train Error Percentage:0.5 %\n",
            "*** Running batch perceptron train simulation for epoch 30 ***\n",
            "Train Error Percentage:0.5 %\n",
            "*** Running batch perceptron train simulation for epoch 31 ***\n",
            "Train Error Percentage:0.5 %\n",
            "*** Running batch perceptron train simulation for epoch 32 ***\n",
            "Train Error Percentage:0.5 %\n",
            "*** Running batch perceptron train simulation for epoch 33 ***\n",
            "Train Error Percentage:1.0 %\n",
            "*** Running batch perceptron train simulation for epoch 34 ***\n",
            "Train Error Percentage:0.5 %\n",
            "*** Running batch perceptron train simulation for epoch 35 ***\n",
            "Train Error Percentage:0.5 %\n",
            "*** Running batch perceptron train simulation for epoch 36 ***\n",
            "Train Error Percentage:0.5 %\n",
            "*** Running batch perceptron train simulation for epoch 37 ***\n",
            "Train Error Percentage:0.5 %\n",
            "*** Running batch perceptron train simulation for epoch 38 ***\n",
            "Train Error Percentage:0.5 %\n",
            "*** Running batch perceptron train simulation for epoch 39 ***\n",
            "Train Error Percentage:0.5 %\n",
            "*** Running batch perceptron train simulation for epoch 40 ***\n",
            "Train Error Percentage:0.5 %\n",
            "*** Running batch perceptron train simulation for epoch 41 ***\n",
            "Train Error Percentage:1.0 %\n",
            "*** Running batch perceptron train simulation for epoch 42 ***\n",
            "Train Error Percentage:0.5 %\n",
            "*** Running batch perceptron train simulation for epoch 43 ***\n",
            "Train Error Percentage:0.5 %\n",
            "*** Running batch perceptron train simulation for epoch 44 ***\n",
            "Train Error Percentage:0.5 %\n",
            "*** Running batch perceptron train simulation for epoch 45 ***\n",
            "Train Error Percentage:0.5 %\n",
            "*** Running batch perceptron train simulation for epoch 46 ***\n",
            "Train Error Percentage:0.5 %\n",
            "*** Running batch perceptron train simulation for epoch 47 ***\n",
            "Train Error Percentage:0.5 %\n",
            "*** Running batch perceptron train simulation for epoch 48 ***\n",
            "Train Error Percentage:1.0 %\n",
            "*** Running batch perceptron train simulation for epoch 49 ***\n",
            "Train Error Percentage:0.5 %\n",
            "*** Running batch perceptron train simulation for epoch 50 ***\n",
            "Train Error Percentage:0.5 %\n",
            "Stop Training - End of Epochs\n",
            "\n",
            "\n",
            "Epochs:50 and Learning Rate:0.0001\n",
            "Total Training Features (including bias):3\n",
            "Total Training Points:200\n",
            "Initial Weights:[0.23012826 0.30256145 0.02072239]\n",
            "*** Running batch perceptron train simulation for epoch 1 ***\n",
            "Train Error Percentage:11.0 %\n",
            "*** Running batch perceptron train simulation for epoch 2 ***\n",
            "Train Error Percentage:0.5 %\n",
            "*** Running batch perceptron train simulation for epoch 3 ***\n",
            "Train Error Percentage:0.5 %\n",
            "*** Running batch perceptron train simulation for epoch 4 ***\n",
            "Train Error Percentage:0.5 %\n",
            "*** Running batch perceptron train simulation for epoch 5 ***\n",
            "Train Error Percentage:0.5 %\n",
            "*** Running batch perceptron train simulation for epoch 6 ***\n",
            "Train Error Percentage:1.0 %\n",
            "*** Running batch perceptron train simulation for epoch 7 ***\n",
            "Train Error Percentage:0.5 %\n",
            "*** Running batch perceptron train simulation for epoch 8 ***\n",
            "Train Error Percentage:0.5 %\n",
            "*** Running batch perceptron train simulation for epoch 9 ***\n",
            "Train Error Percentage:0.5 %\n",
            "*** Running batch perceptron train simulation for epoch 10 ***\n",
            "Train Error Percentage:0.5 %\n",
            "*** Running batch perceptron train simulation for epoch 11 ***\n",
            "Train Error Percentage:0.5 %\n",
            "*** Running batch perceptron train simulation for epoch 12 ***\n",
            "Train Error Percentage:0.5 %\n",
            "*** Running batch perceptron train simulation for epoch 13 ***\n",
            "Train Error Percentage:0.5 %\n",
            "*** Running batch perceptron train simulation for epoch 14 ***\n",
            "Train Error Percentage:1.0 %\n",
            "*** Running batch perceptron train simulation for epoch 15 ***\n",
            "Train Error Percentage:0.5 %\n",
            "*** Running batch perceptron train simulation for epoch 16 ***\n",
            "Train Error Percentage:0.5 %\n",
            "*** Running batch perceptron train simulation for epoch 17 ***\n",
            "Train Error Percentage:0.5 %\n",
            "*** Running batch perceptron train simulation for epoch 18 ***\n",
            "Train Error Percentage:0.5 %\n",
            "*** Running batch perceptron train simulation for epoch 19 ***\n",
            "Train Error Percentage:0.5 %\n",
            "*** Running batch perceptron train simulation for epoch 20 ***\n",
            "Train Error Percentage:0.5 %\n",
            "*** Running batch perceptron train simulation for epoch 21 ***\n",
            "Train Error Percentage:1.0 %\n",
            "*** Running batch perceptron train simulation for epoch 22 ***\n",
            "Train Error Percentage:0.5 %\n",
            "*** Running batch perceptron train simulation for epoch 23 ***\n",
            "Train Error Percentage:0.5 %\n",
            "*** Running batch perceptron train simulation for epoch 24 ***\n",
            "Train Error Percentage:0.5 %\n",
            "*** Running batch perceptron train simulation for epoch 25 ***\n",
            "Train Error Percentage:0.5 %\n",
            "*** Running batch perceptron train simulation for epoch 26 ***\n",
            "Train Error Percentage:0.5 %\n",
            "*** Running batch perceptron train simulation for epoch 27 ***\n",
            "Train Error Percentage:0.5 %\n",
            "*** Running batch perceptron train simulation for epoch 28 ***\n",
            "Train Error Percentage:1.0 %\n",
            "*** Running batch perceptron train simulation for epoch 29 ***\n",
            "Train Error Percentage:0.5 %\n",
            "*** Running batch perceptron train simulation for epoch 30 ***\n",
            "Train Error Percentage:0.5 %\n",
            "*** Running batch perceptron train simulation for epoch 31 ***\n",
            "Train Error Percentage:0.5 %\n",
            "*** Running batch perceptron train simulation for epoch 32 ***\n",
            "Train Error Percentage:0.5 %\n",
            "*** Running batch perceptron train simulation for epoch 33 ***\n",
            "Train Error Percentage:0.5 %\n",
            "*** Running batch perceptron train simulation for epoch 34 ***\n",
            "Train Error Percentage:0.5 %\n",
            "*** Running batch perceptron train simulation for epoch 35 ***\n",
            "Train Error Percentage:0.5 %\n",
            "*** Running batch perceptron train simulation for epoch 36 ***\n",
            "Train Error Percentage:1.0 %\n",
            "*** Running batch perceptron train simulation for epoch 37 ***\n",
            "Train Error Percentage:0.5 %\n",
            "*** Running batch perceptron train simulation for epoch 38 ***\n",
            "Train Error Percentage:0.5 %\n",
            "*** Running batch perceptron train simulation for epoch 39 ***\n",
            "Train Error Percentage:0.5 %\n",
            "*** Running batch perceptron train simulation for epoch 40 ***\n",
            "Train Error Percentage:0.5 %\n",
            "*** Running batch perceptron train simulation for epoch 41 ***\n",
            "Train Error Percentage:0.5 %\n",
            "*** Running batch perceptron train simulation for epoch 42 ***\n",
            "Train Error Percentage:0.5 %\n",
            "*** Running batch perceptron train simulation for epoch 43 ***\n",
            "Train Error Percentage:1.0 %\n",
            "*** Running batch perceptron train simulation for epoch 44 ***\n",
            "Train Error Percentage:0.5 %\n",
            "*** Running batch perceptron train simulation for epoch 45 ***\n",
            "Train Error Percentage:0.5 %\n",
            "*** Running batch perceptron train simulation for epoch 46 ***\n",
            "Train Error Percentage:0.5 %\n",
            "*** Running batch perceptron train simulation for epoch 47 ***\n",
            "Train Error Percentage:0.5 %\n",
            "*** Running batch perceptron train simulation for epoch 48 ***\n",
            "Train Error Percentage:0.5 %\n",
            "*** Running batch perceptron train simulation for epoch 49 ***\n",
            "Train Error Percentage:0.5 %\n",
            "*** Running batch perceptron train simulation for epoch 50 ***\n",
            "Train Error Percentage:0.5 %\n",
            "Stop Training - End of Epochs\n"
          ]
        }
      ]
    },
    {
      "cell_type": "markdown",
      "source": [
        "##### Plotting Error for different Learning Rates"
      ],
      "metadata": {
        "id": "NoRT4e41J9Nw"
      }
    },
    {
      "cell_type": "code",
      "source": [
        "#Display Training Error for different Learning Rates\n",
        "plotErrorLearningRate(results['Eta-Error'],etas)"
      ],
      "metadata": {
        "colab": {
          "base_uri": "https://localhost:8080/",
          "height": 350
        },
        "id": "ROjmRfzN5H0u",
        "outputId": "495633cc-e65d-4fea-84f2-9a8f4db3e7b9"
      },
      "execution_count": 22,
      "outputs": [
        {
          "output_type": "display_data",
          "data": {
            "image/png": "[encoded data removed]",
            "text/plain": [
              "<Figure size 720x360 with 1 Axes>"
            ]
          },
          "metadata": {
            "needs_background": "light"
          }
        }
      ]
    },
    {
      "cell_type": "markdown",
      "source": [
        "### Choosing the Best Learning Rate\n",
        "\n",
        "This section will pick the best learning rate from the simulation of 50 epochs, based on the simulation which has the minimum training error."
      ],
      "metadata": {
        "id": "lX6O0bMLKH5i"
      }
    },
    {
      "cell_type": "code",
      "source": [
        "min_error_dict = {'Eta': [],'MTE': [],'Epoch': []}\n",
        "\n",
        "print()\n",
        "#Get minimum error\n",
        "for eta, errors in zip(etas, results['Eta-Error']):\n",
        "  min_e = min(errors)\n",
        "  #Epoch of minimum\n",
        "  pos = errors.index(min_e) + 1\n",
        "  print(f'Learning Rate:{eta} => Minimum Training Error:{min_e}% => Epoch:{pos}')\n",
        "  min_error_dict['Eta'].append(eta)\n",
        "  min_error_dict['MTE'].append(min_e)\n",
        "  min_error_dict['Epoch'].append(pos)\n",
        "\n",
        "df = pd.DataFrame(min_error_dict)\n",
        "\n",
        "min_MTE_df= df[df['MTE'] == df['MTE'].min()]\n",
        "best_eta = min_MTE_df[min_MTE_df['Epoch'] == min_MTE_df['Epoch'].min()]\n",
        "bestEta = best_eta.iloc[0]['Eta']\n",
        "print(f'Best Learning Rate:{bestEta}')"
      ],
      "metadata": {
        "colab": {
          "base_uri": "https://localhost:8080/"
        },
        "id": "0olepFS75MHa",
        "outputId": "1f2e2a3d-4fdb-4ab6-8a3f-01b579b256e8"
      },
      "execution_count": 23,
      "outputs": [
        {
          "output_type": "stream",
          "name": "stdout",
          "text": [
            "\n",
            "Learning Rate:0.1 => Minimum Training Error:0.5% => Epoch:6\n",
            "Learning Rate:0.01 => Minimum Training Error:0.5% => Epoch:6\n",
            "Learning Rate:0.001 => Minimum Training Error:0.5% => Epoch:7\n",
            "Learning Rate:0.0001 => Minimum Training Error:0.5% => Epoch:2\n",
            "Best Learning Rate:0.0001\n"
          ]
        }
      ]
    },
    {
      "cell_type": "markdown",
      "source": [
        "### Execution of Delta Train with the best learning rate."
      ],
      "metadata": {
        "id": "3vrib0BNKti1"
      }
    },
    {
      "cell_type": "markdown",
      "source": [
        "#### Stochastic Delta Train"
      ],
      "metadata": {
        "id": "gBvtlZGBKhBd"
      }
    },
    {
      "cell_type": "code",
      "source": [
        "#Get time for stochastic\n",
        "start_time_stoch = time.time()\n",
        "(bestEtaWeights,bestEtaError,weightUpdateCountStoc) = stochasticDeltaTrain(X_mat,Y_mat,epoch,bestEta,initialWeights)\n",
        "stoch_exec_secs = (time.time() - start_time_stoch)"
      ],
      "metadata": {
        "colab": {
          "base_uri": "https://localhost:8080/"
        },
        "id": "9ToWW6hh5Wz3",
        "outputId": "0c78531c-0ac4-483b-b134-2b48297e15d0"
      },
      "execution_count": 24,
      "outputs": [
        {
          "output_type": "stream",
          "name": "stdout",
          "text": [
            "\n",
            "\n",
            "Epochs:50 and Learning Rate:0.0001\n",
            "Total Training Features (including bias):3\n",
            "Total Training Points:200\n",
            "*** Running stochastic perceptron train simulation for epoch 1 ***\n",
            "Train Error Percentage:5.5 %\n",
            "*** Running stochastic perceptron train simulation for epoch 2 ***\n",
            "Train Error Percentage:3.0 %\n",
            "*** Running stochastic perceptron train simulation for epoch 3 ***\n",
            "Train Error Percentage:1.0 %\n",
            "*** Running stochastic perceptron train simulation for epoch 4 ***\n",
            "Train Error Percentage:1.0 %\n",
            "*** Running stochastic perceptron train simulation for epoch 5 ***\n",
            "Train Error Percentage:0.5 %\n",
            "*** Running stochastic perceptron train simulation for epoch 6 ***\n",
            "Train Error Percentage:0.5 %\n",
            "*** Running stochastic perceptron train simulation for epoch 7 ***\n",
            "Train Error Percentage:0.5 %\n",
            "*** Running stochastic perceptron train simulation for epoch 8 ***\n",
            "Train Error Percentage:0.5 %\n",
            "*** Running stochastic perceptron train simulation for epoch 9 ***\n",
            "Train Error Percentage:0.5 %\n",
            "*** Running stochastic perceptron train simulation for epoch 10 ***\n",
            "Train Error Percentage:0.5 %\n",
            "*** Running stochastic perceptron train simulation for epoch 11 ***\n",
            "Train Error Percentage:0.5 %\n",
            "*** Running stochastic perceptron train simulation for epoch 12 ***\n",
            "Train Error Percentage:0.5 %\n",
            "*** Running stochastic perceptron train simulation for epoch 13 ***\n",
            "Train Error Percentage:0.5 %\n",
            "*** Running stochastic perceptron train simulation for epoch 14 ***\n",
            "Train Error Percentage:0.5 %\n",
            "*** Running stochastic perceptron train simulation for epoch 15 ***\n",
            "Train Error Percentage:0.5 %\n",
            "*** Running stochastic perceptron train simulation for epoch 16 ***\n",
            "Train Error Percentage:0.5 %\n",
            "*** Running stochastic perceptron train simulation for epoch 17 ***\n",
            "Train Error Percentage:0.5 %\n",
            "*** Running stochastic perceptron train simulation for epoch 18 ***\n",
            "Train Error Percentage:0.5 %\n",
            "*** Running stochastic perceptron train simulation for epoch 19 ***\n",
            "Train Error Percentage:0.5 %\n",
            "*** Running stochastic perceptron train simulation for epoch 20 ***\n",
            "Train Error Percentage:0.5 %\n",
            "*** Running stochastic perceptron train simulation for epoch 21 ***\n",
            "Train Error Percentage:0.5 %\n",
            "*** Running stochastic perceptron train simulation for epoch 22 ***\n",
            "Train Error Percentage:0.5 %\n",
            "*** Running stochastic perceptron train simulation for epoch 23 ***\n",
            "Train Error Percentage:0.5 %\n",
            "*** Running stochastic perceptron train simulation for epoch 24 ***\n",
            "Train Error Percentage:0.5 %\n",
            "*** Running stochastic perceptron train simulation for epoch 25 ***\n",
            "Train Error Percentage:0.5 %\n",
            "*** Running stochastic perceptron train simulation for epoch 26 ***\n",
            "Train Error Percentage:0.5 %\n",
            "*** Running stochastic perceptron train simulation for epoch 27 ***\n",
            "Train Error Percentage:0.5 %\n",
            "*** Running stochastic perceptron train simulation for epoch 28 ***\n",
            "Train Error Percentage:0.5 %\n",
            "*** Running stochastic perceptron train simulation for epoch 29 ***\n",
            "Train Error Percentage:0.5 %\n",
            "*** Running stochastic perceptron train simulation for epoch 30 ***\n",
            "Train Error Percentage:0.5 %\n",
            "*** Running stochastic perceptron train simulation for epoch 31 ***\n",
            "Train Error Percentage:0.5 %\n",
            "*** Running stochastic perceptron train simulation for epoch 32 ***\n",
            "Train Error Percentage:0.5 %\n",
            "*** Running stochastic perceptron train simulation for epoch 33 ***\n",
            "Train Error Percentage:0.5 %\n",
            "*** Running stochastic perceptron train simulation for epoch 34 ***\n",
            "Train Error Percentage:0.5 %\n",
            "*** Running stochastic perceptron train simulation for epoch 35 ***\n",
            "Train Error Percentage:0.5 %\n",
            "*** Running stochastic perceptron train simulation for epoch 36 ***\n",
            "Train Error Percentage:0.5 %\n",
            "*** Running stochastic perceptron train simulation for epoch 37 ***\n",
            "Train Error Percentage:0.5 %\n",
            "*** Running stochastic perceptron train simulation for epoch 38 ***\n",
            "Train Error Percentage:1.0 %\n",
            "*** Running stochastic perceptron train simulation for epoch 39 ***\n",
            "Train Error Percentage:0.5 %\n",
            "*** Running stochastic perceptron train simulation for epoch 40 ***\n",
            "Train Error Percentage:0.5 %\n",
            "*** Running stochastic perceptron train simulation for epoch 41 ***\n",
            "Train Error Percentage:0.5 %\n",
            "*** Running stochastic perceptron train simulation for epoch 42 ***\n",
            "Train Error Percentage:0.5 %\n",
            "*** Running stochastic perceptron train simulation for epoch 43 ***\n",
            "Train Error Percentage:0.5 %\n",
            "*** Running stochastic perceptron train simulation for epoch 44 ***\n",
            "Train Error Percentage:0.5 %\n",
            "*** Running stochastic perceptron train simulation for epoch 45 ***\n",
            "Train Error Percentage:1.0 %\n",
            "*** Running stochastic perceptron train simulation for epoch 46 ***\n",
            "Train Error Percentage:0.5 %\n",
            "*** Running stochastic perceptron train simulation for epoch 47 ***\n",
            "Train Error Percentage:0.5 %\n",
            "*** Running stochastic perceptron train simulation for epoch 48 ***\n",
            "Train Error Percentage:0.5 %\n",
            "*** Running stochastic perceptron train simulation for epoch 49 ***\n",
            "Train Error Percentage:0.5 %\n",
            "*** Running stochastic perceptron train simulation for epoch 50 ***\n",
            "Train Error Percentage:0.5 %\n",
            "Stop Training - End of Epochs\n"
          ]
        }
      ]
    },
    {
      "cell_type": "markdown",
      "source": [
        "##### Error - Plot"
      ],
      "metadata": {
        "id": "CnUTKsYwp48Z"
      }
    },
    {
      "cell_type": "code",
      "source": [
        "#Display Training Error\n",
        "plotError(bestEtaError)"
      ],
      "metadata": {
        "colab": {
          "base_uri": "https://localhost:8080/",
          "height": 350
        },
        "outputId": "01dbf7ca-91c2-4990-ecdb-4fec9ba16158",
        "id": "7T_JKkbZp48i"
      },
      "execution_count": 25,
      "outputs": [
        {
          "output_type": "display_data",
          "data": {
            "image/png": "[encoded data removed]",
            "text/plain": [
              "<Figure size 720x360 with 1 Axes>"
            ]
          },
          "metadata": {
            "needs_background": "light"
          }
        }
      ]
    },
    {
      "cell_type": "markdown",
      "source": [
        "#### Batch Delta Train"
      ],
      "metadata": {
        "id": "6AUjpt8LKppb"
      }
    },
    {
      "cell_type": "code",
      "source": [
        "#Get time for batch\n",
        "start_time_batch = time.time()\n",
        "(bestEtaWeights,bestEtaError,weightUpdateCountBatch) = batchDeltaTrain(X_mat,Y_mat,epoch,bestEta,initialWeights)\n",
        "batch_exec_secs = (time.time() - start_time_batch)"
      ],
      "metadata": {
        "colab": {
          "base_uri": "https://localhost:8080/"
        },
        "id": "08QcARJ65azq",
        "outputId": "e2dfe180-abea-4c88-ce24-0ca8a560610a"
      },
      "execution_count": 26,
      "outputs": [
        {
          "output_type": "stream",
          "name": "stdout",
          "text": [
            "\n",
            "\n",
            "Epochs:50 and Learning Rate:0.0001\n",
            "Total Training Features (including bias):3\n",
            "Total Training Points:200\n",
            "Initial Weights:[0.23012826 0.30256145 0.02072239]\n",
            "*** Running batch perceptron train simulation for epoch 1 ***\n",
            "Train Error Percentage:11.0 %\n",
            "*** Running batch perceptron train simulation for epoch 2 ***\n",
            "Train Error Percentage:0.5 %\n",
            "*** Running batch perceptron train simulation for epoch 3 ***\n",
            "Train Error Percentage:0.5 %\n",
            "*** Running batch perceptron train simulation for epoch 4 ***\n",
            "Train Error Percentage:0.5 %\n",
            "*** Running batch perceptron train simulation for epoch 5 ***\n",
            "Train Error Percentage:0.5 %\n",
            "*** Running batch perceptron train simulation for epoch 6 ***\n",
            "Train Error Percentage:1.0 %\n",
            "*** Running batch perceptron train simulation for epoch 7 ***\n",
            "Train Error Percentage:0.5 %\n",
            "*** Running batch perceptron train simulation for epoch 8 ***\n",
            "Train Error Percentage:0.5 %\n",
            "*** Running batch perceptron train simulation for epoch 9 ***\n",
            "Train Error Percentage:0.5 %\n",
            "*** Running batch perceptron train simulation for epoch 10 ***\n",
            "Train Error Percentage:0.5 %\n",
            "*** Running batch perceptron train simulation for epoch 11 ***\n",
            "Train Error Percentage:0.5 %\n",
            "*** Running batch perceptron train simulation for epoch 12 ***\n",
            "Train Error Percentage:0.5 %\n",
            "*** Running batch perceptron train simulation for epoch 13 ***\n",
            "Train Error Percentage:0.5 %\n",
            "*** Running batch perceptron train simulation for epoch 14 ***\n",
            "Train Error Percentage:1.0 %\n",
            "*** Running batch perceptron train simulation for epoch 15 ***\n",
            "Train Error Percentage:0.5 %\n",
            "*** Running batch perceptron train simulation for epoch 16 ***\n",
            "Train Error Percentage:0.5 %\n",
            "*** Running batch perceptron train simulation for epoch 17 ***\n",
            "Train Error Percentage:0.5 %\n",
            "*** Running batch perceptron train simulation for epoch 18 ***\n",
            "Train Error Percentage:0.5 %\n",
            "*** Running batch perceptron train simulation for epoch 19 ***\n",
            "Train Error Percentage:0.5 %\n",
            "*** Running batch perceptron train simulation for epoch 20 ***\n",
            "Train Error Percentage:0.5 %\n",
            "*** Running batch perceptron train simulation for epoch 21 ***\n",
            "Train Error Percentage:1.0 %\n",
            "*** Running batch perceptron train simulation for epoch 22 ***\n",
            "Train Error Percentage:0.5 %\n",
            "*** Running batch perceptron train simulation for epoch 23 ***\n",
            "Train Error Percentage:0.5 %\n",
            "*** Running batch perceptron train simulation for epoch 24 ***\n",
            "Train Error Percentage:0.5 %\n",
            "*** Running batch perceptron train simulation for epoch 25 ***\n",
            "Train Error Percentage:0.5 %\n",
            "*** Running batch perceptron train simulation for epoch 26 ***\n",
            "Train Error Percentage:0.5 %\n",
            "*** Running batch perceptron train simulation for epoch 27 ***\n",
            "Train Error Percentage:0.5 %\n",
            "*** Running batch perceptron train simulation for epoch 28 ***\n",
            "Train Error Percentage:1.0 %\n",
            "*** Running batch perceptron train simulation for epoch 29 ***\n",
            "Train Error Percentage:0.5 %\n",
            "*** Running batch perceptron train simulation for epoch 30 ***\n",
            "Train Error Percentage:0.5 %\n",
            "*** Running batch perceptron train simulation for epoch 31 ***\n",
            "Train Error Percentage:0.5 %\n",
            "*** Running batch perceptron train simulation for epoch 32 ***\n",
            "Train Error Percentage:0.5 %\n",
            "*** Running batch perceptron train simulation for epoch 33 ***\n",
            "Train Error Percentage:0.5 %\n",
            "*** Running batch perceptron train simulation for epoch 34 ***\n",
            "Train Error Percentage:0.5 %\n",
            "*** Running batch perceptron train simulation for epoch 35 ***\n",
            "Train Error Percentage:0.5 %\n",
            "*** Running batch perceptron train simulation for epoch 36 ***\n",
            "Train Error Percentage:1.0 %\n",
            "*** Running batch perceptron train simulation for epoch 37 ***\n",
            "Train Error Percentage:0.5 %\n",
            "*** Running batch perceptron train simulation for epoch 38 ***\n",
            "Train Error Percentage:0.5 %\n",
            "*** Running batch perceptron train simulation for epoch 39 ***\n",
            "Train Error Percentage:0.5 %\n",
            "*** Running batch perceptron train simulation for epoch 40 ***\n",
            "Train Error Percentage:0.5 %\n",
            "*** Running batch perceptron train simulation for epoch 41 ***\n",
            "Train Error Percentage:0.5 %\n",
            "*** Running batch perceptron train simulation for epoch 42 ***\n",
            "Train Error Percentage:0.5 %\n",
            "*** Running batch perceptron train simulation for epoch 43 ***\n",
            "Train Error Percentage:1.0 %\n",
            "*** Running batch perceptron train simulation for epoch 44 ***\n",
            "Train Error Percentage:0.5 %\n",
            "*** Running batch perceptron train simulation for epoch 45 ***\n",
            "Train Error Percentage:0.5 %\n",
            "*** Running batch perceptron train simulation for epoch 46 ***\n",
            "Train Error Percentage:0.5 %\n",
            "*** Running batch perceptron train simulation for epoch 47 ***\n",
            "Train Error Percentage:0.5 %\n",
            "*** Running batch perceptron train simulation for epoch 48 ***\n",
            "Train Error Percentage:0.5 %\n",
            "*** Running batch perceptron train simulation for epoch 49 ***\n",
            "Train Error Percentage:0.5 %\n",
            "*** Running batch perceptron train simulation for epoch 50 ***\n",
            "Train Error Percentage:0.5 %\n",
            "Stop Training - End of Epochs\n"
          ]
        }
      ]
    },
    {
      "cell_type": "markdown",
      "source": [
        "##### Error - Plot"
      ],
      "metadata": {
        "id": "ObtaNYNSqoVs"
      }
    },
    {
      "cell_type": "code",
      "source": [
        "#Display Training Error\n",
        "plotError(bestEtaError)"
      ],
      "metadata": {
        "colab": {
          "base_uri": "https://localhost:8080/",
          "height": 350
        },
        "outputId": "b6019811-fc14-4b50-8605-a8e0a0a17cdc",
        "id": "kcnWf39qqoVt"
      },
      "execution_count": 27,
      "outputs": [
        {
          "output_type": "display_data",
          "data": {
            "image/png": "[encoded data removed]",
            "text/plain": [
              "<Figure size 720x360 with 1 Axes>"
            ]
          },
          "metadata": {
            "needs_background": "light"
          }
        }
      ]
    },
    {
      "cell_type": "markdown",
      "source": [
        "### Results"
      ],
      "metadata": {
        "id": "FN6Qb_56K6x7"
      }
    },
    {
      "cell_type": "code",
      "source": [
        "#Display results\n",
        "print(f'\\nEpochs: {epoch}')\n",
        "print(f'Learning Rate: {bestEta}')\n",
        "\n",
        "print(f'\\nStochastic Training:')\n",
        "print(f'\\tExecution Time(secs): {stoch_exec_secs}')\n",
        "print(f'\\tNumber of Weight Updates: {weightUpdateCountStoc}')\n",
        "\n",
        "print(f'\\nBatch Training:')\n",
        "print(f'\\tExecution Time(secs): {batch_exec_secs}')\n",
        "print(f'\\tNumber of Weight Updates: {weightUpdateCountBatch}')"
      ],
      "metadata": {
        "colab": {
          "base_uri": "https://localhost:8080/"
        },
        "id": "ocBMdvqz5gi1",
        "outputId": "cd167e7d-ac47-4be8-e02d-f12b775594c2"
      },
      "execution_count": 28,
      "outputs": [
        {
          "output_type": "stream",
          "name": "stdout",
          "text": [
            "\n",
            "Epochs: 50\n",
            "Learning Rate: 0.0001\n",
            "\n",
            "Stochastic Training:\n",
            "\tExecution Time(secs): 0.2738814353942871\n",
            "\tNumber of Weight Updates: 10000\n",
            "\n",
            "Batch Training:\n",
            "\tExecution Time(secs): 0.05171036720275879\n",
            "\tNumber of Weight Updates: 50\n"
          ]
        }
      ]
    },
    {
      "cell_type": "markdown",
      "source": [
        "## Delta Train with a Decaying Learning Rate\n",
        "\n",
        "#### Implementing Delta Train Rule with a decaying learning rate.\n",
        "\n",
        "Decaying learning rate can be any value: [0,1].\n",
        "\n",
        "For this implementation, we have taken the decay of the learning rate to be \"0.8\"."
      ],
      "metadata": {
        "id": "p7_V5zB55j6H"
      }
    },
    {
      "cell_type": "markdown",
      "source": [
        "### Training a model with decaying learning rate.\n",
        "You can modify the decay in learning rate from the following block. To change, modify the value of the variable: decay in the block."
      ],
      "metadata": {
        "id": "ZnVD9olP57Rf"
      }
    },
    {
      "cell_type": "code",
      "source": [
        "#Function to run Stochastic Delta train simulation\n",
        "def batchDeltaTrain_decayLearning(X_train,Y_train,epoch,eta,initialWeights, decay=1):\n",
        "    weightUpdateCountBatch = 0\n",
        "    #Wrong predictions\n",
        "    trainFrac = 0\n",
        "    #Storing original learning rate\n",
        "    original_eta = eta\n",
        "    #Save training error for epochs\n",
        "    trainError = []\n",
        "    #Weights to return\n",
        "    weights = []\n",
        "    print(f'\\n\\nEpochs:{epoch} and Learning Rate:{eta}')\n",
        "    #Number of features\n",
        "    n = len(X_train[0])\n",
        "    print(f'Total Training Features (including bias):{n}')\n",
        "    #Initialize weights\n",
        "    w = initialWeights\n",
        "    #Total Training data points\n",
        "    m = len(X_train)\n",
        "    #Total Testing data points\n",
        "    print(f'Total Training Points:{m}')\n",
        "    print(f'Initial Weights:{w}')\n",
        "    for i in range(epoch):\n",
        "        #Correctly classified\n",
        "        correctPredictions = 0\n",
        "        #Append weights\n",
        "        weights.append(w)\n",
        "        trainFrac = 0\n",
        "        print(f'*** Running batch perceptron train simulation with decaying learning rate for epoch {i+1}. ***')\n",
        "        print(f'Learning Rate: {eta}, Decay in Learning Rate: {decay}')\n",
        "        st = 0\n",
        "        loss = 0\n",
        "        yt = []\n",
        "        st = np.dot(X_train, w)\n",
        "        for s in st:\n",
        "            if s > 0:\n",
        "                yt.append(1)\n",
        "            else:\n",
        "                yt.append(-1)\n",
        "        yt = np.array(yt).reshape(200,1)\n",
        "        #Check loss/error\n",
        "        loss = Y_train - yt\n",
        "        for loss_indiv in loss:\n",
        "            if loss_indiv == 0:\n",
        "                correctPredictions = correctPredictions + 1\n",
        "            else:\n",
        "                trainFrac = trainFrac + 1\n",
        "        dt = eta * np.dot(X_train.T,loss).T[0]\n",
        "        weightUpdateCountBatch = weightUpdateCountBatch + 1\n",
        "        #Update weight\n",
        "        w = w + dt\n",
        "        #decaying learning rate\n",
        "        #eta = pow(decay,i) * original_eta\n",
        "        eta = eta * decay\n",
        "        trainError.append((trainFrac/m)*100)\n",
        "        print(f'Train Error Percentage:{trainError[-1]} %')\n",
        "        #Exit on perfect classficiation for all training points\n",
        "        #if correctPredictions == m:\n",
        "        #   print('Stop Training - Perfect Predictions')\n",
        "        #    return (weights,trainError)\n",
        "    print('Stop Training - End of Epochs')\n",
        "    return (weights,trainError,weightUpdateCountBatch)\n"
      ],
      "metadata": {
        "id": "63l_iwo35s35"
      },
      "execution_count": 29,
      "outputs": []
    },
    {
      "cell_type": "code",
      "source": [
        "#Function to display Training Error per Epoch\n",
        "def plotError(eta,errors, labels,title):\n",
        "    E = [i+1 for i in range(len(errors[0]))]\n",
        "    fig,axes = plt.subplots(figsize=(10,5),num='Training Error Plot')\n",
        "    axes.set_title(f'{title} Training Error vs Epoch at initial learning rate: {eta}')\n",
        "    axes.set_xlabel('Epoch')\n",
        "    axes.set_ylabel('Training Error Perfcentage (%)')\n",
        "    for error,label in zip(errors,labels):\n",
        "        axes.plot(E,error,label=label)\n",
        "    plt.legend(loc='upper right')\n",
        "    plt.show()"
      ],
      "metadata": {
        "id": "TKKoPV2V6COq"
      },
      "execution_count": 30,
      "outputs": []
    },
    {
      "cell_type": "markdown",
      "source": [
        "#### Simulations\n",
        "\n",
        "This section runs a simulation for 25 epochs for both delta train and delta train with decaying learning rate, in order to compare their performance."
      ],
      "metadata": {
        "id": "w64PrtRJnJvl"
      }
    },
    {
      "cell_type": "code",
      "source": [
        "#Number of iterations\n",
        "epoch = 25 \n",
        "#Learning rate\n",
        "decayeta = 0.8\n",
        "#decay in learning rate\n",
        "decay = 0.8\n",
        "#Send matrix form\n",
        "X_mat = X.to_numpy()\n",
        "Y_mat = Y.to_numpy()\n",
        "#Run batch decay delta train simulations with decaying learning rate\n",
        "(simulWeightsDecay,trainErrorDecay,weightUpdateCountBatchDecay25) = batchDeltaTrain_decayLearning(X_mat,Y_mat,epoch,decayeta,initialWeights,decay)\n",
        "#Run batch delta train simulations with constant learning rate\n",
        "(simulWeightsNoDecay,trainErrorNoDecay,weightUpdateCountBatchNoDecay25) = batchDeltaTrain(X_mat,Y_mat,epoch,decayeta,initialWeights)"
      ],
      "metadata": {
        "colab": {
          "base_uri": "https://localhost:8080/"
        },
        "id": "j0z9Y6Qf5u40",
        "outputId": "3896c3c5-0ecb-4136-9259-988ff4377e08"
      },
      "execution_count": 31,
      "outputs": [
        {
          "output_type": "stream",
          "name": "stdout",
          "text": [
            "\n",
            "\n",
            "Epochs:25 and Learning Rate:0.8\n",
            "Total Training Features (including bias):3\n",
            "Total Training Points:200\n",
            "Initial Weights:[0.23012826 0.30256145 0.02072239]\n",
            "*** Running batch perceptron train simulation with decaying learning rate for epoch 1. ***\n",
            "Learning Rate: 0.8, Decay in Learning Rate: 0.8\n",
            "Train Error Percentage:11.0 %\n",
            "*** Running batch perceptron train simulation with decaying learning rate for epoch 2. ***\n",
            "Learning Rate: 0.6400000000000001, Decay in Learning Rate: 0.8\n",
            "Train Error Percentage:42.0 %\n",
            "*** Running batch perceptron train simulation with decaying learning rate for epoch 3. ***\n",
            "Learning Rate: 0.5120000000000001, Decay in Learning Rate: 0.8\n",
            "Train Error Percentage:14.000000000000002 %\n",
            "*** Running batch perceptron train simulation with decaying learning rate for epoch 4. ***\n",
            "Learning Rate: 0.40960000000000013, Decay in Learning Rate: 0.8\n",
            "Train Error Percentage:0.5 %\n",
            "*** Running batch perceptron train simulation with decaying learning rate for epoch 5. ***\n",
            "Learning Rate: 0.32768000000000014, Decay in Learning Rate: 0.8\n",
            "Train Error Percentage:0.5 %\n",
            "*** Running batch perceptron train simulation with decaying learning rate for epoch 6. ***\n",
            "Learning Rate: 0.2621440000000001, Decay in Learning Rate: 0.8\n",
            "Train Error Percentage:0.5 %\n",
            "*** Running batch perceptron train simulation with decaying learning rate for epoch 7. ***\n",
            "Learning Rate: 0.2097152000000001, Decay in Learning Rate: 0.8\n",
            "Train Error Percentage:0.5 %\n",
            "*** Running batch perceptron train simulation with decaying learning rate for epoch 8. ***\n",
            "Learning Rate: 0.1677721600000001, Decay in Learning Rate: 0.8\n",
            "Train Error Percentage:0.5 %\n",
            "*** Running batch perceptron train simulation with decaying learning rate for epoch 9. ***\n",
            "Learning Rate: 0.13421772800000006, Decay in Learning Rate: 0.8\n",
            "Train Error Percentage:0.5 %\n",
            "*** Running batch perceptron train simulation with decaying learning rate for epoch 10. ***\n",
            "Learning Rate: 0.10737418240000006, Decay in Learning Rate: 0.8\n",
            "Train Error Percentage:0.5 %\n",
            "*** Running batch perceptron train simulation with decaying learning rate for epoch 11. ***\n",
            "Learning Rate: 0.08589934592000005, Decay in Learning Rate: 0.8\n",
            "Train Error Percentage:0.5 %\n",
            "*** Running batch perceptron train simulation with decaying learning rate for epoch 12. ***\n",
            "Learning Rate: 0.06871947673600004, Decay in Learning Rate: 0.8\n",
            "Train Error Percentage:0.5 %\n",
            "*** Running batch perceptron train simulation with decaying learning rate for epoch 13. ***\n",
            "Learning Rate: 0.054975581388800036, Decay in Learning Rate: 0.8\n",
            "Train Error Percentage:0.5 %\n",
            "*** Running batch perceptron train simulation with decaying learning rate for epoch 14. ***\n",
            "Learning Rate: 0.043980465111040035, Decay in Learning Rate: 0.8\n",
            "Train Error Percentage:0.5 %\n",
            "*** Running batch perceptron train simulation with decaying learning rate for epoch 15. ***\n",
            "Learning Rate: 0.03518437208883203, Decay in Learning Rate: 0.8\n",
            "Train Error Percentage:0.5 %\n",
            "*** Running batch perceptron train simulation with decaying learning rate for epoch 16. ***\n",
            "Learning Rate: 0.028147497671065627, Decay in Learning Rate: 0.8\n",
            "Train Error Percentage:0.5 %\n",
            "*** Running batch perceptron train simulation with decaying learning rate for epoch 17. ***\n",
            "Learning Rate: 0.022517998136852502, Decay in Learning Rate: 0.8\n",
            "Train Error Percentage:0.5 %\n",
            "*** Running batch perceptron train simulation with decaying learning rate for epoch 18. ***\n",
            "Learning Rate: 0.018014398509482003, Decay in Learning Rate: 0.8\n",
            "Train Error Percentage:0.5 %\n",
            "*** Running batch perceptron train simulation with decaying learning rate for epoch 19. ***\n",
            "Learning Rate: 0.014411518807585602, Decay in Learning Rate: 0.8\n",
            "Train Error Percentage:0.5 %\n",
            "*** Running batch perceptron train simulation with decaying learning rate for epoch 20. ***\n",
            "Learning Rate: 0.011529215046068483, Decay in Learning Rate: 0.8\n",
            "Train Error Percentage:0.5 %\n",
            "*** Running batch perceptron train simulation with decaying learning rate for epoch 21. ***\n",
            "Learning Rate: 0.009223372036854787, Decay in Learning Rate: 0.8\n",
            "Train Error Percentage:0.5 %\n",
            "*** Running batch perceptron train simulation with decaying learning rate for epoch 22. ***\n",
            "Learning Rate: 0.00737869762948383, Decay in Learning Rate: 0.8\n",
            "Train Error Percentage:0.5 %\n",
            "*** Running batch perceptron train simulation with decaying learning rate for epoch 23. ***\n",
            "Learning Rate: 0.005902958103587064, Decay in Learning Rate: 0.8\n",
            "Train Error Percentage:0.5 %\n",
            "*** Running batch perceptron train simulation with decaying learning rate for epoch 24. ***\n",
            "Learning Rate: 0.004722366482869652, Decay in Learning Rate: 0.8\n",
            "Train Error Percentage:0.5 %\n",
            "*** Running batch perceptron train simulation with decaying learning rate for epoch 25. ***\n",
            "Learning Rate: 0.0037778931862957215, Decay in Learning Rate: 0.8\n",
            "Train Error Percentage:0.5 %\n",
            "Stop Training - End of Epochs\n",
            "\n",
            "\n",
            "Epochs:25 and Learning Rate:0.8\n",
            "Total Training Features (including bias):3\n",
            "Total Training Points:200\n",
            "Initial Weights:[0.23012826 0.30256145 0.02072239]\n",
            "*** Running batch perceptron train simulation for epoch 1 ***\n",
            "Train Error Percentage:11.0 %\n",
            "*** Running batch perceptron train simulation for epoch 2 ***\n",
            "Train Error Percentage:42.0 %\n",
            "*** Running batch perceptron train simulation for epoch 3 ***\n",
            "Train Error Percentage:17.0 %\n",
            "*** Running batch perceptron train simulation for epoch 4 ***\n",
            "Train Error Percentage:1.0 %\n",
            "*** Running batch perceptron train simulation for epoch 5 ***\n",
            "Train Error Percentage:1.0 %\n",
            "*** Running batch perceptron train simulation for epoch 6 ***\n",
            "Train Error Percentage:0.5 %\n",
            "*** Running batch perceptron train simulation for epoch 7 ***\n",
            "Train Error Percentage:0.5 %\n",
            "*** Running batch perceptron train simulation for epoch 8 ***\n",
            "Train Error Percentage:0.5 %\n",
            "*** Running batch perceptron train simulation for epoch 9 ***\n",
            "Train Error Percentage:0.5 %\n",
            "*** Running batch perceptron train simulation for epoch 10 ***\n",
            "Train Error Percentage:0.5 %\n",
            "*** Running batch perceptron train simulation for epoch 11 ***\n",
            "Train Error Percentage:0.5 %\n",
            "*** Running batch perceptron train simulation for epoch 12 ***\n",
            "Train Error Percentage:1.0 %\n",
            "*** Running batch perceptron train simulation for epoch 13 ***\n",
            "Train Error Percentage:0.5 %\n",
            "*** Running batch perceptron train simulation for epoch 14 ***\n",
            "Train Error Percentage:0.5 %\n",
            "*** Running batch perceptron train simulation for epoch 15 ***\n",
            "Train Error Percentage:0.5 %\n",
            "*** Running batch perceptron train simulation for epoch 16 ***\n",
            "Train Error Percentage:0.5 %\n",
            "*** Running batch perceptron train simulation for epoch 17 ***\n",
            "Train Error Percentage:0.5 %\n",
            "*** Running batch perceptron train simulation for epoch 18 ***\n",
            "Train Error Percentage:0.5 %\n",
            "*** Running batch perceptron train simulation for epoch 19 ***\n",
            "Train Error Percentage:1.0 %\n",
            "*** Running batch perceptron train simulation for epoch 20 ***\n",
            "Train Error Percentage:0.5 %\n",
            "*** Running batch perceptron train simulation for epoch 21 ***\n",
            "Train Error Percentage:0.5 %\n",
            "*** Running batch perceptron train simulation for epoch 22 ***\n",
            "Train Error Percentage:0.5 %\n",
            "*** Running batch perceptron train simulation for epoch 23 ***\n",
            "Train Error Percentage:0.5 %\n",
            "*** Running batch perceptron train simulation for epoch 24 ***\n",
            "Train Error Percentage:0.5 %\n",
            "*** Running batch perceptron train simulation for epoch 25 ***\n",
            "Train Error Percentage:0.5 %\n",
            "Stop Training - End of Epochs\n"
          ]
        }
      ]
    },
    {
      "cell_type": "markdown",
      "source": [
        "#### Comparison b/w Delta Train and Delta Train with Decaying Learning Rate\n",
        "\n",
        "##### Plotting Error"
      ],
      "metadata": {
        "id": "z9FMns-unf7z"
      }
    },
    {
      "cell_type": "code",
      "source": [
        "#Plots comparison between training error at constant rate V/s training error at decaying learning rate\n",
        "plotError(decayeta,(trainErrorNoDecay, trainErrorDecay),('Training Error at Constant Learning rate','Training Error at Decaying Learning rate'),'Figure 4')"
      ],
      "metadata": {
        "colab": {
          "base_uri": "https://localhost:8080/",
          "height": 350
        },
        "id": "NIEXiBng6Eqz",
        "outputId": "d1d55130-2d1f-4409-e348-b3ee96e2208f"
      },
      "execution_count": 32,
      "outputs": [
        {
          "output_type": "display_data",
          "data": {
            "image/png": "[encoded data removed]",
            "text/plain": [
              "<Figure size 720x360 with 1 Axes>"
            ]
          },
          "metadata": {
            "needs_background": "light"
          }
        }
      ]
    },
    {
      "cell_type": "markdown",
      "source": [
        "## Delta Train Rule with a Adaptive learning rate.\n",
        "\n",
        "Threshold [t](to compare the new error with the previous error) for modifying the learning rate can be any value: [0,1].\n",
        "Decay in learning rate [d] for decaying the learning rate can be any value: [0,1].\n",
        "Improvement in learning rate [D] for improving the learning rate can be any value: [1,infinity).\n",
        " \n",
        "For this implementation, we have taken:\n",
        "\n",
        "t = 3 (%)\n",
        "\n",
        "d = 0.9\n",
        "\n",
        "D = 1.02\n"
      ],
      "metadata": {
        "id": "OlxjZLJP6FM2"
      }
    },
    {
      "cell_type": "markdown",
      "source": [
        "### Training a model with adaptive learning rate.\n",
        "\n",
        "You can modify the hyperparameters from the following block under **Simulations**."
      ],
      "metadata": {
        "id": "dx52S_99oYDL"
      }
    },
    {
      "cell_type": "code",
      "source": [
        "#Function to run adaptive batch Delta train simulation\n",
        "def batchDeltaTrain_adaptiveLearning(X_train,Y_train,epoch,eta,initialWeights,t = 0.03, d = 0.9, D = 1.02):\n",
        "    weightUpdateCountBatch = 0\n",
        "    #Wrong predictions\n",
        "    trainFrac = 0\n",
        "    #Storing original learning rate\n",
        "    original_eta = eta\n",
        "    #Save training error for epochs\n",
        "    trainError = []\n",
        "    #Weights to return\n",
        "    weights = []\n",
        "    print(f'\\n\\nEpochs:{epoch} and Learning Rate:{eta}')\n",
        "    #Number of features\n",
        "    n = len(X_train[0])\n",
        "    print(f'Total Training Features (including bias):{n}')\n",
        "    #Initialize weights\n",
        "    w = initialWeights\n",
        "    #Total Training data points\n",
        "    m = len(X_train)\n",
        "    #Total Testing data points\n",
        "    print(f'Total Training Points:{m}')\n",
        "    print(f'Initial Weights:{w}')\n",
        "    prev_error = 0\n",
        "    for i in range(epoch):\n",
        "        #Correctly classified\n",
        "        correctPredictions = 0\n",
        "        #Append weights\n",
        "        weights.append(w)\n",
        "        trainFrac = 0\n",
        "        print(f'*** Running batch perceptron train simulation with adaptive learning rate for epoch {i+1}. ***')\n",
        "        print(f'Learning Rate: {eta}, t : {t}, d: {d}, D: {D}')\n",
        "        st = 0\n",
        "        loss = 0\n",
        "        yt = []\n",
        "        st = np.dot(X_train, w)\n",
        "        for s in st:\n",
        "            if s > 0:\n",
        "                yt.append(1)\n",
        "            else:\n",
        "                yt.append(-1)\n",
        "        yt = np.array(yt).reshape(200,1)\n",
        "        #Check loss/error\n",
        "        loss = Y_train - yt\n",
        "        for loss_indiv in loss:\n",
        "            if loss_indiv == 0:\n",
        "                correctPredictions = correctPredictions + 1\n",
        "            else:\n",
        "                trainFrac = trainFrac + 1\n",
        "        curr_error = (trainFrac/m)*100\n",
        "        trainError.append(curr_error)\n",
        "        if i == 0:\n",
        "            #Update weight\n",
        "            dt = eta * np.dot(X_train.T,loss).T[0]\n",
        "            w = w + dt\n",
        "            weightUpdateCountBatch = weightUpdateCountBatch + 1\n",
        "        if i != 0:\n",
        "            if(trainError[-1] - trainError[-2] >= t):\n",
        "                #decrease learning rate\n",
        "                eta = d * eta\n",
        "            else:\n",
        "                #increase learning rate\n",
        "                eta = D * eta\n",
        "                #Update weight\n",
        "                dt = eta * np.dot(X_train.T,loss).T[0]\n",
        "                w = w + dt\n",
        "                weightUpdateCountBatch = weightUpdateCountBatch + 1\n",
        "        print(f'Train Error Percentage:{trainError[-1]} %')\n",
        "        #Exit on perfect classficiation for all training points\n",
        "        #if correctPredictions == m:\n",
        "        #   print('Stop Training - Perfect Predictions')\n",
        "        #    return (weights,trainError)\n",
        "    print('Stop Training - End of Epochs')\n",
        "    #print(weights)\n",
        "    return (weights,trainError,weightUpdateCountBatch)\n"
      ],
      "metadata": {
        "id": "DWDTjpel6Tym"
      },
      "execution_count": 33,
      "outputs": []
    },
    {
      "cell_type": "markdown",
      "source": [
        "#### Simulations\n",
        "\n",
        "This section runs a simulation for 25 epochs for both delta train and delta train with adaptive learning rate, in order to compare their performance."
      ],
      "metadata": {
        "id": "oiOjw7K9oGLp"
      }
    },
    {
      "cell_type": "code",
      "source": [
        "#Number of simulations\n",
        "epoch = 25 \n",
        "#Learning rate\n",
        "adapteta = 0.5\n",
        "#Initializing hyper-paramters\n",
        "t = 3 #%\n",
        "d = 0.9\n",
        "D = 1.02\n",
        "#Send matrix form\n",
        "X_mat = X.to_numpy()\n",
        "Y_mat = Y.to_numpy()\n",
        "#Run batch daptive delta train simulations with adaptive learning.\n",
        "(simulWeightsAdapt,trainErrorAdapt,weightUpdateCountBatchAdapt25) = batchDeltaTrain_adaptiveLearning(X_mat,Y_mat,epoch,adapteta,initialWeights,t,d,D)\n",
        "#Run batch delta train simulations with constant learning rate\n",
        "(simulWeightsNoAdapt,trainErrorNoAdapt,weightUpdateCountBatchNoAdapt25) = batchDeltaTrain(X_mat,Y_mat,epoch,adapteta,initialWeights)"
      ],
      "metadata": {
        "colab": {
          "base_uri": "https://localhost:8080/"
        },
        "id": "C_rNICCz6Y5V",
        "outputId": "c261f535-c58a-44c8-b927-eab317434a63"
      },
      "execution_count": 34,
      "outputs": [
        {
          "output_type": "stream",
          "name": "stdout",
          "text": [
            "\n",
            "\n",
            "Epochs:25 and Learning Rate:0.5\n",
            "Total Training Features (including bias):3\n",
            "Total Training Points:200\n",
            "Initial Weights:[0.23012826 0.30256145 0.02072239]\n",
            "*** Running batch perceptron train simulation with adaptive learning rate for epoch 1. ***\n",
            "Learning Rate: 0.5, t : 3, d: 0.9, D: 1.02\n",
            "Train Error Percentage:11.0 %\n",
            "*** Running batch perceptron train simulation with adaptive learning rate for epoch 2. ***\n",
            "Learning Rate: 0.5, t : 3, d: 0.9, D: 1.02\n",
            "Train Error Percentage:42.0 %\n",
            "*** Running batch perceptron train simulation with adaptive learning rate for epoch 3. ***\n",
            "Learning Rate: 0.45, t : 3, d: 0.9, D: 1.02\n",
            "Train Error Percentage:42.0 %\n",
            "*** Running batch perceptron train simulation with adaptive learning rate for epoch 4. ***\n",
            "Learning Rate: 0.459, t : 3, d: 0.9, D: 1.02\n",
            "Train Error Percentage:16.5 %\n",
            "*** Running batch perceptron train simulation with adaptive learning rate for epoch 5. ***\n",
            "Learning Rate: 0.46818000000000004, t : 3, d: 0.9, D: 1.02\n",
            "Train Error Percentage:1.0 %\n",
            "*** Running batch perceptron train simulation with adaptive learning rate for epoch 6. ***\n",
            "Learning Rate: 0.47754360000000007, t : 3, d: 0.9, D: 1.02\n",
            "Train Error Percentage:1.0 %\n",
            "*** Running batch perceptron train simulation with adaptive learning rate for epoch 7. ***\n",
            "Learning Rate: 0.48709447200000006, t : 3, d: 0.9, D: 1.02\n",
            "Train Error Percentage:1.0 %\n",
            "*** Running batch perceptron train simulation with adaptive learning rate for epoch 8. ***\n",
            "Learning Rate: 0.49683636144000004, t : 3, d: 0.9, D: 1.02\n",
            "Train Error Percentage:0.5 %\n",
            "*** Running batch perceptron train simulation with adaptive learning rate for epoch 9. ***\n",
            "Learning Rate: 0.5067730886688, t : 3, d: 0.9, D: 1.02\n",
            "Train Error Percentage:0.5 %\n",
            "*** Running batch perceptron train simulation with adaptive learning rate for epoch 10. ***\n",
            "Learning Rate: 0.516908550442176, t : 3, d: 0.9, D: 1.02\n",
            "Train Error Percentage:0.5 %\n",
            "*** Running batch perceptron train simulation with adaptive learning rate for epoch 11. ***\n",
            "Learning Rate: 0.5272467214510195, t : 3, d: 0.9, D: 1.02\n",
            "Train Error Percentage:0.5 %\n",
            "*** Running batch perceptron train simulation with adaptive learning rate for epoch 12. ***\n",
            "Learning Rate: 0.5377916558800399, t : 3, d: 0.9, D: 1.02\n",
            "Train Error Percentage:0.5 %\n",
            "*** Running batch perceptron train simulation with adaptive learning rate for epoch 13. ***\n",
            "Learning Rate: 0.5485474889976406, t : 3, d: 0.9, D: 1.02\n",
            "Train Error Percentage:1.0 %\n",
            "*** Running batch perceptron train simulation with adaptive learning rate for epoch 14. ***\n",
            "Learning Rate: 0.5595184387775934, t : 3, d: 0.9, D: 1.02\n",
            "Train Error Percentage:0.5 %\n",
            "*** Running batch perceptron train simulation with adaptive learning rate for epoch 15. ***\n",
            "Learning Rate: 0.5707088075531453, t : 3, d: 0.9, D: 1.02\n",
            "Train Error Percentage:0.5 %\n",
            "*** Running batch perceptron train simulation with adaptive learning rate for epoch 16. ***\n",
            "Learning Rate: 0.5821229837042082, t : 3, d: 0.9, D: 1.02\n",
            "Train Error Percentage:0.5 %\n",
            "*** Running batch perceptron train simulation with adaptive learning rate for epoch 17. ***\n",
            "Learning Rate: 0.5937654433782924, t : 3, d: 0.9, D: 1.02\n",
            "Train Error Percentage:0.5 %\n",
            "*** Running batch perceptron train simulation with adaptive learning rate for epoch 18. ***\n",
            "Learning Rate: 0.6056407522458582, t : 3, d: 0.9, D: 1.02\n",
            "Train Error Percentage:0.5 %\n",
            "*** Running batch perceptron train simulation with adaptive learning rate for epoch 19. ***\n",
            "Learning Rate: 0.6177535672907754, t : 3, d: 0.9, D: 1.02\n",
            "Train Error Percentage:0.5 %\n",
            "*** Running batch perceptron train simulation with adaptive learning rate for epoch 20. ***\n",
            "Learning Rate: 0.6301086386365908, t : 3, d: 0.9, D: 1.02\n",
            "Train Error Percentage:1.0 %\n",
            "*** Running batch perceptron train simulation with adaptive learning rate for epoch 21. ***\n",
            "Learning Rate: 0.6427108114093226, t : 3, d: 0.9, D: 1.02\n",
            "Train Error Percentage:0.5 %\n",
            "*** Running batch perceptron train simulation with adaptive learning rate for epoch 22. ***\n",
            "Learning Rate: 0.6555650276375091, t : 3, d: 0.9, D: 1.02\n",
            "Train Error Percentage:0.5 %\n",
            "*** Running batch perceptron train simulation with adaptive learning rate for epoch 23. ***\n",
            "Learning Rate: 0.6686763281902594, t : 3, d: 0.9, D: 1.02\n",
            "Train Error Percentage:0.5 %\n",
            "*** Running batch perceptron train simulation with adaptive learning rate for epoch 24. ***\n",
            "Learning Rate: 0.6820498547540645, t : 3, d: 0.9, D: 1.02\n",
            "Train Error Percentage:0.5 %\n",
            "*** Running batch perceptron train simulation with adaptive learning rate for epoch 25. ***\n",
            "Learning Rate: 0.6956908518491458, t : 3, d: 0.9, D: 1.02\n",
            "Train Error Percentage:0.5 %\n",
            "Stop Training - End of Epochs\n",
            "\n",
            "\n",
            "Epochs:25 and Learning Rate:0.5\n",
            "Total Training Features (including bias):3\n",
            "Total Training Points:200\n",
            "Initial Weights:[0.23012826 0.30256145 0.02072239]\n",
            "*** Running batch perceptron train simulation for epoch 1 ***\n",
            "Train Error Percentage:11.0 %\n",
            "*** Running batch perceptron train simulation for epoch 2 ***\n",
            "Train Error Percentage:42.0 %\n",
            "*** Running batch perceptron train simulation for epoch 3 ***\n",
            "Train Error Percentage:17.0 %\n",
            "*** Running batch perceptron train simulation for epoch 4 ***\n",
            "Train Error Percentage:1.0 %\n",
            "*** Running batch perceptron train simulation for epoch 5 ***\n",
            "Train Error Percentage:1.0 %\n",
            "*** Running batch perceptron train simulation for epoch 6 ***\n",
            "Train Error Percentage:0.5 %\n",
            "*** Running batch perceptron train simulation for epoch 7 ***\n",
            "Train Error Percentage:0.5 %\n",
            "*** Running batch perceptron train simulation for epoch 8 ***\n",
            "Train Error Percentage:0.5 %\n",
            "*** Running batch perceptron train simulation for epoch 9 ***\n",
            "Train Error Percentage:0.5 %\n",
            "*** Running batch perceptron train simulation for epoch 10 ***\n",
            "Train Error Percentage:0.5 %\n",
            "*** Running batch perceptron train simulation for epoch 11 ***\n",
            "Train Error Percentage:0.5 %\n",
            "*** Running batch perceptron train simulation for epoch 12 ***\n",
            "Train Error Percentage:1.0 %\n",
            "*** Running batch perceptron train simulation for epoch 13 ***\n",
            "Train Error Percentage:0.5 %\n",
            "*** Running batch perceptron train simulation for epoch 14 ***\n",
            "Train Error Percentage:0.5 %\n",
            "*** Running batch perceptron train simulation for epoch 15 ***\n",
            "Train Error Percentage:0.5 %\n",
            "*** Running batch perceptron train simulation for epoch 16 ***\n",
            "Train Error Percentage:0.5 %\n",
            "*** Running batch perceptron train simulation for epoch 17 ***\n",
            "Train Error Percentage:0.5 %\n",
            "*** Running batch perceptron train simulation for epoch 18 ***\n",
            "Train Error Percentage:0.5 %\n",
            "*** Running batch perceptron train simulation for epoch 19 ***\n",
            "Train Error Percentage:0.5 %\n",
            "*** Running batch perceptron train simulation for epoch 20 ***\n",
            "Train Error Percentage:1.0 %\n",
            "*** Running batch perceptron train simulation for epoch 21 ***\n",
            "Train Error Percentage:0.5 %\n",
            "*** Running batch perceptron train simulation for epoch 22 ***\n",
            "Train Error Percentage:0.5 %\n",
            "*** Running batch perceptron train simulation for epoch 23 ***\n",
            "Train Error Percentage:0.5 %\n",
            "*** Running batch perceptron train simulation for epoch 24 ***\n",
            "Train Error Percentage:0.5 %\n",
            "*** Running batch perceptron train simulation for epoch 25 ***\n",
            "Train Error Percentage:0.5 %\n",
            "Stop Training - End of Epochs\n"
          ]
        }
      ]
    },
    {
      "cell_type": "markdown",
      "source": [
        "#### Comparison b/w Delta Train and Delta Train with Adaptive Learning Rate\n",
        "\n",
        "##### Plotting Error"
      ],
      "metadata": {
        "id": "p_ZygDmMoxXW"
      }
    },
    {
      "cell_type": "code",
      "execution_count": 35,
      "metadata": {
        "colab": {
          "base_uri": "https://localhost:8080/",
          "height": 350
        },
        "id": "Qp3eQG-A3m54",
        "outputId": "4cb40577-bd86-4abd-b53c-d3693c810d8d"
      },
      "outputs": [
        {
          "output_type": "display_data",
          "data": {
            "image/png": "[encoded data removed]",
            "text/plain": [
              "<Figure size 720x360 with 1 Axes>"
            ]
          },
          "metadata": {
            "needs_background": "light"
          }
        }
      ],
      "source": [
        "plotError(adapteta,(trainErrorNoAdapt, trainErrorAdapt),('Training Error at Constant Learning rate','Training Error at Adaptive Learning rate'),'Figure 5')"
      ]
    },
    {
      "cell_type": "markdown",
      "source": [
        "## Conclusion\n",
        "\n",
        "1. **Delta Train**:\n",
        "\n",
        "  > a. *Stochastic Delta Train*: The training error reduces a bit slower than Batch Delta Train. But, The training error once converged remains constant and shows less erratic pattern in error.\n",
        "\n",
        "  > b. *Batch Delta Train*: The training error reduces very fast. But, after every few epochs there is a spike seen which dies down again in a few.\n",
        "\n",
        "2. **Delta Train with Decaying Learning Rate**:\n",
        "\n",
        "  In comparison to Batch Delta Train, this simulation reduces the training error a bit slower. But, remains more constant.\n",
        "\n",
        "3. **Delta Train with Adaptive Learning Rate**:\n",
        "\n",
        "  In comparison to Batch Delta Train, this simulation takes longer to reduce the training error, perhaps a epoch more. It then follows the Batch Delta Train with a shifted pattern by an epoch or two.\n",
        "\n",
        "\n",
        "\n"
      ],
      "metadata": {
        "id": "JzQQ9zsTo1vL"
      }
    }
  ]
}